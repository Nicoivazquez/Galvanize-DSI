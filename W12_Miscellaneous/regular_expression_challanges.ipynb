{
 "cells": [
  {
   "cell_type": "markdown",
   "metadata": {},
   "source": [
    "## Regular Expressions\n",
    "\n",
    "Whether it is a refresher, a primer or simply more reps.  Regular expressions (or regex as I will refer to them) are a way to work effectivly with strings.  It is quite possible that you did not even know you **could** do some of the things that are possible with regex.\n",
    "\n",
    "Regular expressions are essentially a tiny, highly specialized programming language embedded inside Python (or another language) and in Python they are made available through the [re module](https://docs.python.org/2/library/re.html).  You can then ask questions such as “Does this string match the pattern?”, or “Is there a match for the pattern anywhere in this string?”. You can also use regex to modify a string or to split it apart in various ways.  The official python docs [has a howto that is a great starting place](https://docs.python.org/2/howto/regex.html#regex-howto).   \n",
    "\n",
    "Did you know you could use the following regex to pull out all the any email addresses?"
   ]
  },
  {
   "cell_type": "code",
   "execution_count": 2,
   "metadata": {},
   "outputs": [
    {
     "name": "stdout",
     "output_type": "stream",
     "text": [
      "['frodo@gmail.com', 'samwise@minis-tirith.edu']\n"
     ]
    }
   ],
   "source": [
    "import re\n",
    "my_str = \"This (frodo@gmail.com) is what you are looking for, but here is my other address: samwise@minis-tirith.edu\"\n",
    "pattern = r\"[A-Za-z0-9\\.\\+_-]+@[A-Za-z0-9\\._-]+\\.[a-zA-Z]*\" \n",
    "print(re.findall(pattern, my_str))"
   ]
  },
  {
   "cell_type": "markdown",
   "metadata": {},
   "source": [
    "## Searching, matching, substitution and more\n",
    "\n",
    "We saw several key ingredients in the email example that we will go into detail:\n",
    "\n",
    "  1. **a string** that we are searching against\n",
    "  2. **a pattern** that seems fairly complicated\n",
    "  3. a call to the standard library package *re*\n",
    "\n",
    "By the way there is also [a standard library option to parse emails](https://docs.python.org/2/library/email.util.html).  First lets start with the [re python module](https://docs.python.org/2/library/re.html).  There are a number of ways to search/match pattern, but these are the most common\n",
    "\n",
    "  * **re.search** - Does the pattern exist anywhere in the string? \n",
    "  * **re.match** - Does the pattern exist at the beginning of the sting? \n",
    "  * **re.split** - Split the string on the occurance of a pattern\n",
    "  * **re.findall** - Return all the matches\n",
    "  * **re.finditer** - Like findall, but returns an iterator\n",
    "  * **re.sub** - Find a pattern and upon matching substitute it with another\n",
    "  \n",
    "Search and match are similar---[there is a page in the docs for that](https://docs.python.org/2/library/re.html#search-vs-match).  All of these methods shown above are the common methods that you will use to interface with the [regular expression class](https://docs.python.org/2/library/re.html#re.RegexObject).\n",
    "\n",
    "**EXERCISE: Using the following example two regexs that illustrates how match and search work differently**"
   ]
  },
  {
   "cell_type": "markdown",
   "metadata": {},
   "source": [
    "And before we get in to deep it is worth noting that when there is a match these methods return a **MatchObject**.  Match objects always have a boolean value of True. Since match() and search() return None when there is no match, you can test whether there was a match with a simple if statement. So this means that we can test to see if a match exists before iterating through individual matches.\n",
    "\n",
    "```\n",
    "match = re.search(pattern, string)\n",
    "if match:\n",
    "    process(match)\n",
    "```\n"
   ]
  },
  {
   "cell_type": "code",
   "execution_count": 3,
   "metadata": {},
   "outputs": [
    {
     "name": "stdout",
     "output_type": "stream",
     "text": [
      "Isaac Newton\n",
      "Isaac\n",
      "Newton\n",
      "('Isaac', 'Newton')\n",
      "('Isaac', 'Newton')\n"
     ]
    }
   ],
   "source": [
    "m = re.match(r\"(\\w+) (\\w+)\", \"Isaac Newton, physicist\")\n",
    "print(m.group(0))    # The entire match\n",
    "print(m.group(1))    # The first parenthesized subgroup.\n",
    "print(m.group(2))    # The second parenthesized subgroup.\n",
    "print(m.group(1, 2)) # Multiple arguments give us a tuple.\n",
    "print(m.groups())"
   ]
  },
  {
   "cell_type": "code",
   "execution_count": 4,
   "metadata": {
    "collapsed": true
   },
   "outputs": [],
   "source": [
    "s = \"hello hello world\"\n",
    "m_hello = re.match(r\"(\\w+) (\\w+) (\\w+)\", s)\n"
   ]
  },
  {
   "cell_type": "code",
   "execution_count": 5,
   "metadata": {},
   "outputs": [
    {
     "name": "stdout",
     "output_type": "stream",
     "text": [
      "hello hello world\n",
      "('hello', 'world')\n"
     ]
    }
   ],
   "source": [
    "print(m_hello.group(0))\n",
    "print(m_hello.group(1,3))"
   ]
  },
  {
   "cell_type": "markdown",
   "metadata": {},
   "source": [
    "## Basis Regular Expression Syntax\n",
    "\n",
    "* **\\d** Matches any decimal digit; this is equivalent to the class [0-9].\n",
    "* **\\D** Matches any non-digit character; this is equivalent to the class [^0-9].\n",
    "* **\\s** Matches any whitespace character; this is equivalent to the class [ \\t\\n\\r\\f\\v].\n",
    "* **\\S** Matches any non-whitespace character; this is equivalent to the class [^ \\t\\n\\r\\f\\v].\n",
    "* **\\w** Matches any alphanumeric character; this is equivalent to the class [a-zA-Z0-9_].\n",
    "* **\\W** Matches any non-alphanumeric character; this is equivalent to the class [^a-zA-Z0-9_]. \n",
    "\n",
    "**EXERCISES**\n",
    "Hint: add a * to the end of your pattern to see what happens."
   ]
  },
  {
   "cell_type": "code",
   "execution_count": 12,
   "metadata": {},
   "outputs": [
    {
     "name": "stdout",
     "output_type": "stream",
     "text": [
      "['Today', 'That', 'There']\n",
      "['T', 'T', 'T', 'Q']\n",
      "['4', '2']\n",
      "['Today', 'you', 'are', 'you', 'That', 'is', 'truer', 'than', 'true', 'There', 'is', 'no', 'one', 'alive', 'who', 'is', 'you', 'er', 'than', 'you', 'Quote', '42']\n",
      "[' ', ' ', ' ', '! ', ' ', ' ', ' ', ' ', '! ', ' ', ' ', ' ', ' ', ' ', ' ', ' ', '-', ' ', ' ', '! (', ' ', ')']\n"
     ]
    }
   ],
   "source": [
    "s = \"Today you are you! That is truer than true! There is no one alive who is you-er than you! (Quote 42)\"\n",
    "\n",
    "## match All of the 'T's\n",
    "m1 = re.findall('T\\w*', s)\n",
    "print(m1)\n",
    "\n",
    "## match all upper case letters\n",
    "m2 = re.findall('[A-Z]', s)\n",
    "print(m2)\n",
    "\n",
    "## match only the numbers\n",
    "m3 = re.findall('\\d', s)\n",
    "print(m3)\n",
    "\n",
    "## match any word\n",
    "m4 = re.findall('\\w+', s)\n",
    "print(m4)\n",
    "\n",
    "## match any non-word\n",
    "m5 = re.findall('\\W+', s)\n",
    "print(m5)"
   ]
  },
  {
   "cell_type": "markdown",
   "metadata": {},
   "source": [
    "## Regular expression special characters\n",
    "\n",
    "Where the fun really begins\n",
    "\n",
    "  * ** '.' ** - Matches any character except a newline.\n",
    "  * ** '^' ** - Matches the start of the string\n",
    "  * ** '$' ** - Matches the end of the string \n",
    "  * ** '*' ** - Match 0 or more repetitions of the preceding RE\n",
    "  * ** '+' ** - Match 1 or more repetitions of the preceding RE\n",
    "  * ** '?' ** - Match 0 or 1 repetitions of the preceding RE\n",
    "  * ** '*?, +?, ??' ** - non-greedy form of The '*', '+', and '?' qualifiers\n",
    "  * ** {m} ** - Match exactly m copies of the previous RE \n",
    "  * ** {m,n} ** - Match from m to n repetitions of the preceding RE\n",
    "  * ** [ ] ** - Used to indicate a set of characters.\n",
    "  * ** '|' ** - A|B, match either A or B.\n",
    "  \n",
    "**EXERCISES** "
   ]
  },
  {
   "cell_type": "code",
   "execution_count": 34,
   "metadata": {},
   "outputs": [
    {
     "name": "stdout",
     "output_type": "stream",
     "text": [
      "['You', 'have', 'brains', 'in', 'your', 'head', 'You', 'have', 'feet', 'in', 'your', 'shoes', 'You', 'can', 'steer', 'yourself', 'any', 'direction', 'you', 'choose', 'Dr', 'Suess']\n",
      "You\n",
      "['Suess']\n",
      "[' have', ' brains', ' in', ' your', ' head', ' You', ' have', ' feet', ' in', ' your', ' shoes', ' You', ' can', ' steer', ' yourself', ' any', ' direction', ' you', ' choose', '-Dr', ' Suess']\n",
      "['You have', 'You have', 'You can', 'you choose']\n",
      "['You have', 'You have', 'You can', 'you choose']\n"
     ]
    }
   ],
   "source": [
    "s = \"You have brains in your head. You have feet in your shoes. You can steer yourself any direction you choose.  --Dr. Suess\"\n",
    "\n",
    "## match all words\n",
    "m6 = re.findall('\\w+', s)\n",
    "print(m6)\n",
    "\n",
    "## match only the first word\n",
    "m7 = re.match('\\w+', s)\n",
    "print(m7.group(0))\n",
    "\n",
    "## match the last word\n",
    "m8 = re.findall('\\w+$', s)\n",
    "print(m8)\n",
    "\n",
    "## match all letters that come after a single whitespace character\n",
    "m9 = re.findall('\\W\\w+', s)\n",
    "print(m9)\n",
    "\n",
    "## Can you create a pattern that will match \"you anyword\"?\n",
    "m10 = re.findall('[Yy]ou\\W\\w+', s)\n",
    "print(m10)\n",
    "\n",
    "## match the previous pattern at least two times but no more than three\n",
    "m11 = re.findall('[Yy]ou\\W\\w+', s)\n",
    "print(m11)"
   ]
  },
  {
   "cell_type": "markdown",
   "metadata": {},
   "source": [
    "## The Backslash Scourge\n",
    "\n",
    "Regular expressions use the backslash character ('\\') to indicate special forms or to allow special characters to be used without invoking their special meaning. This collides with Python’s usage of the same character for the same purpose in string literals; for example, to match a literal backslash, one might have to write '\\\\\\\\' as the pattern string, because the regular expression must be \\\\, and each backslash must be expressed as \\\\ inside a regular Python string literal.\n",
    "\n",
    "Here is a question that an instructor recently asked in a slack channel.  If I have the following use cases can we parse the paths?\n",
    "\n",
    "**EXERCISE: The pattern below almost works can you think of a way to fix it?**"
   ]
  },
  {
   "cell_type": "code",
   "execution_count": 42,
   "metadata": {},
   "outputs": [
    {
     "name": "stdout",
     "output_type": "stream",
     "text": [
      "no path found\n",
      "some \n",
      "some /other \n"
     ]
    }
   ],
   "source": [
    "import os\n",
    "\n",
    "a = r'this_is/some directory/'                                                                                                                                                        \n",
    "b = r\"this_is/some\\ directory\"                                                                                                                                                       \n",
    "c = r\"this_is/some\\ other\\ directory/\"                                                                                                                                                \n",
    "\n",
    "pattern = \"\\w+\\\\\\\\\\s+\"\n",
    "for s in [a,b,c]:\n",
    "    m = re.findall(pattern,s)\n",
    "    m1 = [re.sub(\"\\\\\\\\+\",\"\",_m) for _m in m]\n",
    "    if len(m1) > 0:\n",
    "        clean_path = os.path.join(*m1)\n",
    "        print(clean_path)\n",
    "    else:\n",
    "        print(\"no path found\")"
   ]
  },
  {
   "cell_type": "code",
   "execution_count": null,
   "metadata": {
    "collapsed": true
   },
   "outputs": [],
   "source": []
  },
  {
   "cell_type": "code",
   "execution_count": null,
   "metadata": {
    "collapsed": true
   },
   "outputs": [],
   "source": []
  }
 ],
 "metadata": {
  "kernelspec": {
   "display_name": "Python 3",
   "language": "python",
   "name": "python3"
  },
  "language_info": {
   "codemirror_mode": {
    "name": "ipython",
    "version": 3
   },
   "file_extension": ".py",
   "mimetype": "text/x-python",
   "name": "python",
   "nbconvert_exporter": "python",
   "pygments_lexer": "ipython3",
   "version": "3.6.1"
  }
 },
 "nbformat": 4,
 "nbformat_minor": 2
}
