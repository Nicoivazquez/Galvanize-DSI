{
 "cells": [
  {
   "cell_type": "markdown",
   "metadata": {},
   "source": [
    "# Pandas Breakout Questions\n",
    "\n",
    "To get some hands on experience with `pandas` we will be working with the somewhat morose dataset looking at all the mass shooting events that occured in 2015 (`./data/mass_shootings_2015.csv`)"
   ]
  },
  {
   "cell_type": "code",
   "execution_count": 4,
   "metadata": {
    "collapsed": true
   },
   "outputs": [],
   "source": [
    "import pandas as pd\n"
   ]
  },
  {
   "cell_type": "markdown",
   "metadata": {},
   "source": [
    "## 1. Reading in the Dataframe\n",
    "\n",
    "First things first, we must read in our dataset!\n",
    "Turn to your neighbor and figure out how to read this data into a Dataframe.  Once you have it read in, take a look at the columns and look at some summary statistics."
   ]
  },
  {
   "cell_type": "code",
   "execution_count": 5,
   "metadata": {
    "collapsed": false
   },
   "outputs": [],
   "source": [
    "df = pd.read_csv('./data/mass_shootings_2015.csv')"
   ]
  },
  {
   "cell_type": "code",
   "execution_count": 10,
   "metadata": {
    "collapsed": false
   },
   "outputs": [
    {
     "data": {
      "text/plain": [
       "<bound method NDFrame.describe of          Incident Date           State                    City Or County  \\\n",
       "0    December 31, 2015       Louisiana                       New Orleans   \n",
       "1    December 27, 2015       Tennessee                           Jackson   \n",
       "2    December 26, 2015    Pennsylvania                      Philadelphia   \n",
       "3    December 25, 2015         Florida                      Jacksonville   \n",
       "4    December 25, 2015         Alabama                            Mobile   \n",
       "5    December 21, 2015      California                       San Leandro   \n",
       "6    December 20, 2015  North Carolina                        Wilmington   \n",
       "7    December 20, 2015         Florida                    Miami (Goulds)   \n",
       "8    December 20, 2015         Florida               Miami-dade (county)   \n",
       "9    December 14, 2015        Illinois                Lovejoy (Brooklyn)   \n",
       "10   December 13, 2015      California                       Los Angeles   \n",
       "11   December 13, 2015      California                  Huntington Beach   \n",
       "12   December 12, 2015         Georgia                          Savannah   \n",
       "13   December 11, 2015        Maryland                         Baltimore   \n",
       "14   December 11, 2015    Pennsylvania         Pittsburgh (Mount Oliver)   \n",
       "15    December 8, 2015            Ohio            Cincinnati (Fairmount)   \n",
       "16    December 6, 2015       Louisiana                          Raceland   \n",
       "17    December 6, 2015        Nebraska                             Omaha   \n",
       "18    December 2, 2015      California                    San Bernardino   \n",
       "19    December 2, 2015         Georgia                          Savannah   \n",
       "20   November 29, 2015        Illinois                          Kankakee   \n",
       "21   November 27, 2015        Colorado                  Colorado Springs   \n",
       "22   November 27, 2015      California                        Sacramento   \n",
       "23   November 24, 2015  South Carolina                    Horry (county)   \n",
       "24   November 23, 2015            Ohio                          Columbus   \n",
       "25   November 23, 2015       Minnesota                       Minneapolis   \n",
       "26   November 22, 2015           Texas                       Brownsville   \n",
       "27   November 22, 2015      Washington                           Seattle   \n",
       "28   November 22, 2015       Louisiana                       New Orleans   \n",
       "29   November 22, 2015        New York                          Newburgh   \n",
       "..                 ...             ...                               ...   \n",
       "300   February 9, 2015         Florida                   New Port Richey   \n",
       "301   February 8, 2015       Tennessee                        Maury City   \n",
       "302   February 7, 2015         Georgia                      Douglasville   \n",
       "303   February 6, 2015        Oklahoma                             Tulsa   \n",
       "304   February 5, 2015            Ohio  Beachwood (Warrensville Heights)   \n",
       "305   February 1, 2015        New York                          Syracuse   \n",
       "306   February 1, 2015        New York              New York (Manhattan)   \n",
       "307   January 31, 2015         Georgia                          Lagrange   \n",
       "308   January 28, 2015         Georgia                     Dekalb County   \n",
       "309   January 26, 2015      California                          Stockton   \n",
       "310   January 24, 2015        New York                  Arverne (Queens)   \n",
       "311   January 24, 2015        Nebraska                             Omaha   \n",
       "312   January 23, 2015   Massachusetts                            Boston   \n",
       "313   January 20, 2015       Tennessee                       Clarksville   \n",
       "314   January 19, 2015           Texas                       San Antonio   \n",
       "315   January 16, 2015      California                           Oakland   \n",
       "316   January 13, 2015        Virginia                        Portsmouth   \n",
       "317   January 13, 2015        Illinois                          Rockford   \n",
       "318   January 11, 2015  North Carolina                        Hope Mills   \n",
       "319   January 11, 2015         Florida                          Lakeland   \n",
       "320   January 11, 2015      California                          San Jose   \n",
       "321   January 10, 2015          Kansas                           Wichita   \n",
       "322    January 9, 2015      California                     San Francisco   \n",
       "323    January 8, 2015   Massachusetts                            Boston   \n",
       "324    January 7, 2015       Tennessee                       Chattanooga   \n",
       "325    January 6, 2015         Florida                             Miami   \n",
       "326    January 4, 2015        Virginia                           Roanoke   \n",
       "327    January 4, 2015           Texas                            Dallas   \n",
       "328    January 2, 2015         Georgia                          Savannah   \n",
       "329    January 1, 2015       Tennessee                           Memphis   \n",
       "\n",
       "                                               Address  # Killed  # Injured  \\\n",
       "0                          1900 block of Amelia Street         0          5   \n",
       "1                                        North Parkway         0          4   \n",
       "2                                   4210 Macalester St         0          4   \n",
       "3                                  Franklin and Odessa         0          4   \n",
       "4                                 785 Schillinger Rd S         0          4   \n",
       "5                      14600 block of East 14th Street         0          4   \n",
       "6                               11th and Castle Street         1          4   \n",
       "7                         21630 Southwest 120th Avenue         1          4   \n",
       "8    Northeast Seventh Avenue and Northeast 166th S...         0          4   \n",
       "9                                     307 Jefferson St         1          3   \n",
       "10                               5550 S. Flower Street         1          3   \n",
       "11                         17000 block of Keelson Lane         0          4   \n",
       "12                                     Whitaker Street         0          4   \n",
       "13                   5100 block of Park Heights Avenue         1          3   \n",
       "14                      200 Block of  Brownsville Road         0          4   \n",
       "15                      2300 block of Baltimore Avenue         1          3   \n",
       "16                                       Market Street         1          3   \n",
       "17                North 108th Street and Military Road         2          3   \n",
       "18                          1365 South Waterman Avenue        16         19   \n",
       "19                       100 block of West 33rd Street         1          3   \n",
       "20                                     648 E. Court St         0          5   \n",
       "21                                3480 Centennial Blvd         3          9   \n",
       "22                           7900 block of Florin Road         2          2   \n",
       "23                                 1321 Colletta Court         0          4   \n",
       "24                       90 block of S. Terrace Avenue         4          1   \n",
       "25                                 Morgan Avenue North         0          5   \n",
       "26                                1800 Block of FM 802         0          4   \n",
       "27                                   Broadway and Pike         0          4   \n",
       "28                        1900 block of Gallier Street         0         17   \n",
       "29                                        203 Broadway         0          5   \n",
       "..                                                 ...       ...        ...   \n",
       "300                                  9552 Adler Street         3          1   \n",
       "301                                    251 Dupree Road         0          6   \n",
       "302                            3640 Willow Tree Circle         5          2   \n",
       "303                              1219 N. Sheridan Road         1          4   \n",
       "304                                       Harvard Road         3          3   \n",
       "305                           1217 West Fayette Street         0          6   \n",
       "306                                      3345 Broadway         1          4   \n",
       "307                      100 block of Woodstream Trail         4          0   \n",
       "308                          1600 block of Panola Road         1          3   \n",
       "309                        1500 block of E. 9th Street         1          3   \n",
       "310                                231-11 148th Avenue         4          1   \n",
       "311                                     3402 Parker St         3          5   \n",
       "312                                  954 Parker Street         0          6   \n",
       "313                                 321 Lansinger Lane         1          3   \n",
       "314                            1000 block of Gibbs St.         2          5   \n",
       "315                                     105th and Edes         2          2   \n",
       "316                 4100 block of Portsmouth Boulevard         0          5   \n",
       "317                         700 block of Oakley Avenue         2          2   \n",
       "318                        1900 block of Gumberry Road         2          5   \n",
       "319                                    7665 Chase Road         1          3   \n",
       "320                                  3840 Monterey Hwy         0          5   \n",
       "321                                4859 E Harry Street         2          2   \n",
       "322                            Laguna and Page streets         4          0   \n",
       "323                               104 Harrishof Street         1          3   \n",
       "324                               773 West Main Street         1          3   \n",
       "325                       1300 block of NW 62nd Street         1          3   \n",
       "326                             3634 Shenandoah Ave NW         2          4   \n",
       "327                          2000 block of Ben Hur St.         3          1   \n",
       "328                        500 block of W. 54th Street         1          4   \n",
       "329                   Interstate 240 and Poplar Avenue         0          5   \n",
       "\n",
       "     Operations  \n",
       "0           NaN  \n",
       "1           NaN  \n",
       "2           NaN  \n",
       "3           NaN  \n",
       "4           NaN  \n",
       "5           NaN  \n",
       "6           NaN  \n",
       "7           NaN  \n",
       "8           NaN  \n",
       "9           NaN  \n",
       "10          NaN  \n",
       "11          NaN  \n",
       "12          NaN  \n",
       "13          NaN  \n",
       "14          NaN  \n",
       "15          NaN  \n",
       "16          NaN  \n",
       "17          NaN  \n",
       "18          NaN  \n",
       "19          NaN  \n",
       "20          NaN  \n",
       "21          NaN  \n",
       "22          NaN  \n",
       "23          NaN  \n",
       "24          NaN  \n",
       "25          NaN  \n",
       "26          NaN  \n",
       "27          NaN  \n",
       "28          NaN  \n",
       "29          NaN  \n",
       "..          ...  \n",
       "300         NaN  \n",
       "301         NaN  \n",
       "302         NaN  \n",
       "303         NaN  \n",
       "304         NaN  \n",
       "305         NaN  \n",
       "306         NaN  \n",
       "307         NaN  \n",
       "308         NaN  \n",
       "309         NaN  \n",
       "310         NaN  \n",
       "311         NaN  \n",
       "312         NaN  \n",
       "313         NaN  \n",
       "314         NaN  \n",
       "315         NaN  \n",
       "316         NaN  \n",
       "317         NaN  \n",
       "318         NaN  \n",
       "319         NaN  \n",
       "320         NaN  \n",
       "321         NaN  \n",
       "322         NaN  \n",
       "323         NaN  \n",
       "324         NaN  \n",
       "325         NaN  \n",
       "326         NaN  \n",
       "327         NaN  \n",
       "328         NaN  \n",
       "329         NaN  \n",
       "\n",
       "[330 rows x 7 columns]>"
      ]
     },
     "execution_count": 10,
     "metadata": {},
     "output_type": "execute_result"
    }
   ],
   "source": [
    "df.describe"
   ]
  },
  {
   "cell_type": "code",
   "execution_count": null,
   "metadata": {
    "collapsed": true
   },
   "outputs": [],
   "source": []
  },
  {
   "cell_type": "markdown",
   "metadata": {},
   "source": [
    "## 2. Clean Column Names\n",
    "\n",
    "The first thing I always do when reading in a Datafram is clean up our column names!  Personally I view spaces, special characters, and capitals in column names as no-no's.  Granted this isn't a hard and fast rule but we have already seen cases where having spaces in column names causes issues.\n",
    "\n",
    "With your neighbor, clean the columns names of this Dataframe!"
   ]
  },
  {
   "cell_type": "code",
   "execution_count": 7,
   "metadata": {
    "collapsed": false
   },
   "outputs": [
    {
     "data": {
      "text/plain": [
       "Index(['Incident Date', 'State', 'City Or County', 'Address', '# Killed',\n",
       "       '# Injured', 'Operations'],\n",
       "      dtype='object')"
      ]
     },
     "execution_count": 7,
     "metadata": {},
     "output_type": "execute_result"
    }
   ],
   "source": [
    "df.columns"
   ]
  },
  {
   "cell_type": "code",
   "execution_count": 11,
   "metadata": {
    "collapsed": false
   },
   "outputs": [
    {
     "data": {
      "text/plain": [
       "<bound method NDFrame.describe of          incident_date           state                    city_or_county  \\\n",
       "0    December 31, 2015       Louisiana                       New Orleans   \n",
       "1    December 27, 2015       Tennessee                           Jackson   \n",
       "2    December 26, 2015    Pennsylvania                      Philadelphia   \n",
       "3    December 25, 2015         Florida                      Jacksonville   \n",
       "4    December 25, 2015         Alabama                            Mobile   \n",
       "5    December 21, 2015      California                       San Leandro   \n",
       "6    December 20, 2015  North Carolina                        Wilmington   \n",
       "7    December 20, 2015         Florida                    Miami (Goulds)   \n",
       "8    December 20, 2015         Florida               Miami-dade (county)   \n",
       "9    December 14, 2015        Illinois                Lovejoy (Brooklyn)   \n",
       "10   December 13, 2015      California                       Los Angeles   \n",
       "11   December 13, 2015      California                  Huntington Beach   \n",
       "12   December 12, 2015         Georgia                          Savannah   \n",
       "13   December 11, 2015        Maryland                         Baltimore   \n",
       "14   December 11, 2015    Pennsylvania         Pittsburgh (Mount Oliver)   \n",
       "15    December 8, 2015            Ohio            Cincinnati (Fairmount)   \n",
       "16    December 6, 2015       Louisiana                          Raceland   \n",
       "17    December 6, 2015        Nebraska                             Omaha   \n",
       "18    December 2, 2015      California                    San Bernardino   \n",
       "19    December 2, 2015         Georgia                          Savannah   \n",
       "20   November 29, 2015        Illinois                          Kankakee   \n",
       "21   November 27, 2015        Colorado                  Colorado Springs   \n",
       "22   November 27, 2015      California                        Sacramento   \n",
       "23   November 24, 2015  South Carolina                    Horry (county)   \n",
       "24   November 23, 2015            Ohio                          Columbus   \n",
       "25   November 23, 2015       Minnesota                       Minneapolis   \n",
       "26   November 22, 2015           Texas                       Brownsville   \n",
       "27   November 22, 2015      Washington                           Seattle   \n",
       "28   November 22, 2015       Louisiana                       New Orleans   \n",
       "29   November 22, 2015        New York                          Newburgh   \n",
       "..                 ...             ...                               ...   \n",
       "300   February 9, 2015         Florida                   New Port Richey   \n",
       "301   February 8, 2015       Tennessee                        Maury City   \n",
       "302   February 7, 2015         Georgia                      Douglasville   \n",
       "303   February 6, 2015        Oklahoma                             Tulsa   \n",
       "304   February 5, 2015            Ohio  Beachwood (Warrensville Heights)   \n",
       "305   February 1, 2015        New York                          Syracuse   \n",
       "306   February 1, 2015        New York              New York (Manhattan)   \n",
       "307   January 31, 2015         Georgia                          Lagrange   \n",
       "308   January 28, 2015         Georgia                     Dekalb County   \n",
       "309   January 26, 2015      California                          Stockton   \n",
       "310   January 24, 2015        New York                  Arverne (Queens)   \n",
       "311   January 24, 2015        Nebraska                             Omaha   \n",
       "312   January 23, 2015   Massachusetts                            Boston   \n",
       "313   January 20, 2015       Tennessee                       Clarksville   \n",
       "314   January 19, 2015           Texas                       San Antonio   \n",
       "315   January 16, 2015      California                           Oakland   \n",
       "316   January 13, 2015        Virginia                        Portsmouth   \n",
       "317   January 13, 2015        Illinois                          Rockford   \n",
       "318   January 11, 2015  North Carolina                        Hope Mills   \n",
       "319   January 11, 2015         Florida                          Lakeland   \n",
       "320   January 11, 2015      California                          San Jose   \n",
       "321   January 10, 2015          Kansas                           Wichita   \n",
       "322    January 9, 2015      California                     San Francisco   \n",
       "323    January 8, 2015   Massachusetts                            Boston   \n",
       "324    January 7, 2015       Tennessee                       Chattanooga   \n",
       "325    January 6, 2015         Florida                             Miami   \n",
       "326    January 4, 2015        Virginia                           Roanoke   \n",
       "327    January 4, 2015           Texas                            Dallas   \n",
       "328    January 2, 2015         Georgia                          Savannah   \n",
       "329    January 1, 2015       Tennessee                           Memphis   \n",
       "\n",
       "                                               address  #_killed  #_injured  \\\n",
       "0                          1900 block of Amelia Street         0          5   \n",
       "1                                        North Parkway         0          4   \n",
       "2                                   4210 Macalester St         0          4   \n",
       "3                                  Franklin and Odessa         0          4   \n",
       "4                                 785 Schillinger Rd S         0          4   \n",
       "5                      14600 block of East 14th Street         0          4   \n",
       "6                               11th and Castle Street         1          4   \n",
       "7                         21630 Southwest 120th Avenue         1          4   \n",
       "8    Northeast Seventh Avenue and Northeast 166th S...         0          4   \n",
       "9                                     307 Jefferson St         1          3   \n",
       "10                               5550 S. Flower Street         1          3   \n",
       "11                         17000 block of Keelson Lane         0          4   \n",
       "12                                     Whitaker Street         0          4   \n",
       "13                   5100 block of Park Heights Avenue         1          3   \n",
       "14                      200 Block of  Brownsville Road         0          4   \n",
       "15                      2300 block of Baltimore Avenue         1          3   \n",
       "16                                       Market Street         1          3   \n",
       "17                North 108th Street and Military Road         2          3   \n",
       "18                          1365 South Waterman Avenue        16         19   \n",
       "19                       100 block of West 33rd Street         1          3   \n",
       "20                                     648 E. Court St         0          5   \n",
       "21                                3480 Centennial Blvd         3          9   \n",
       "22                           7900 block of Florin Road         2          2   \n",
       "23                                 1321 Colletta Court         0          4   \n",
       "24                       90 block of S. Terrace Avenue         4          1   \n",
       "25                                 Morgan Avenue North         0          5   \n",
       "26                                1800 Block of FM 802         0          4   \n",
       "27                                   Broadway and Pike         0          4   \n",
       "28                        1900 block of Gallier Street         0         17   \n",
       "29                                        203 Broadway         0          5   \n",
       "..                                                 ...       ...        ...   \n",
       "300                                  9552 Adler Street         3          1   \n",
       "301                                    251 Dupree Road         0          6   \n",
       "302                            3640 Willow Tree Circle         5          2   \n",
       "303                              1219 N. Sheridan Road         1          4   \n",
       "304                                       Harvard Road         3          3   \n",
       "305                           1217 West Fayette Street         0          6   \n",
       "306                                      3345 Broadway         1          4   \n",
       "307                      100 block of Woodstream Trail         4          0   \n",
       "308                          1600 block of Panola Road         1          3   \n",
       "309                        1500 block of E. 9th Street         1          3   \n",
       "310                                231-11 148th Avenue         4          1   \n",
       "311                                     3402 Parker St         3          5   \n",
       "312                                  954 Parker Street         0          6   \n",
       "313                                 321 Lansinger Lane         1          3   \n",
       "314                            1000 block of Gibbs St.         2          5   \n",
       "315                                     105th and Edes         2          2   \n",
       "316                 4100 block of Portsmouth Boulevard         0          5   \n",
       "317                         700 block of Oakley Avenue         2          2   \n",
       "318                        1900 block of Gumberry Road         2          5   \n",
       "319                                    7665 Chase Road         1          3   \n",
       "320                                  3840 Monterey Hwy         0          5   \n",
       "321                                4859 E Harry Street         2          2   \n",
       "322                            Laguna and Page streets         4          0   \n",
       "323                               104 Harrishof Street         1          3   \n",
       "324                               773 West Main Street         1          3   \n",
       "325                       1300 block of NW 62nd Street         1          3   \n",
       "326                             3634 Shenandoah Ave NW         2          4   \n",
       "327                          2000 block of Ben Hur St.         3          1   \n",
       "328                        500 block of W. 54th Street         1          4   \n",
       "329                   Interstate 240 and Poplar Avenue         0          5   \n",
       "\n",
       "     operations  \n",
       "0           NaN  \n",
       "1           NaN  \n",
       "2           NaN  \n",
       "3           NaN  \n",
       "4           NaN  \n",
       "5           NaN  \n",
       "6           NaN  \n",
       "7           NaN  \n",
       "8           NaN  \n",
       "9           NaN  \n",
       "10          NaN  \n",
       "11          NaN  \n",
       "12          NaN  \n",
       "13          NaN  \n",
       "14          NaN  \n",
       "15          NaN  \n",
       "16          NaN  \n",
       "17          NaN  \n",
       "18          NaN  \n",
       "19          NaN  \n",
       "20          NaN  \n",
       "21          NaN  \n",
       "22          NaN  \n",
       "23          NaN  \n",
       "24          NaN  \n",
       "25          NaN  \n",
       "26          NaN  \n",
       "27          NaN  \n",
       "28          NaN  \n",
       "29          NaN  \n",
       "..          ...  \n",
       "300         NaN  \n",
       "301         NaN  \n",
       "302         NaN  \n",
       "303         NaN  \n",
       "304         NaN  \n",
       "305         NaN  \n",
       "306         NaN  \n",
       "307         NaN  \n",
       "308         NaN  \n",
       "309         NaN  \n",
       "310         NaN  \n",
       "311         NaN  \n",
       "312         NaN  \n",
       "313         NaN  \n",
       "314         NaN  \n",
       "315         NaN  \n",
       "316         NaN  \n",
       "317         NaN  \n",
       "318         NaN  \n",
       "319         NaN  \n",
       "320         NaN  \n",
       "321         NaN  \n",
       "322         NaN  \n",
       "323         NaN  \n",
       "324         NaN  \n",
       "325         NaN  \n",
       "326         NaN  \n",
       "327         NaN  \n",
       "328         NaN  \n",
       "329         NaN  \n",
       "\n",
       "[330 rows x 7 columns]>"
      ]
     },
     "execution_count": 11,
     "metadata": {},
     "output_type": "execute_result"
    }
   ],
   "source": [
    "df2 = df.copy()\n",
    "cols = df2.columns.tolist()\n",
    "cols = [c.replace(' ','_').lower() for c in cols]\n",
    "df2.columns = cols\n",
    "df2.describe"
   ]
  },
  {
   "cell_type": "code",
   "execution_count": 12,
   "metadata": {
    "collapsed": false
   },
   "outputs": [
    {
     "data": {
      "text/plain": [
       "Index(['incident_date', 'state', 'city_or_county', 'address', '#_killed',\n",
       "       '#_injured', 'operations'],\n",
       "      dtype='object')"
      ]
     },
     "execution_count": 12,
     "metadata": {},
     "output_type": "execute_result"
    }
   ],
   "source": [
    "df = df2\n",
    "df.columns"
   ]
  },
  {
   "cell_type": "markdown",
   "metadata": {},
   "source": [
    "## 3. Cast the `date` column as a datetime object\n",
    "\n",
    "We can see from our initial look at this data that the `date` column is actually an object (basically a string).  Let's alter this column to make it an actual date!\n",
    "\n",
    "HINT: http://pandas.pydata.org/pandas-docs/stable/generated/pandas.to_datetime.html"
   ]
  },
  {
   "cell_type": "code",
   "execution_count": 15,
   "metadata": {
    "collapsed": false
   },
   "outputs": [
    {
     "data": {
      "text/plain": [
       "<bound method DataFrame.info of     incident_date           state                    city_or_county  \\\n",
       "0      2015-12-31       Louisiana                       New Orleans   \n",
       "1      2015-12-27       Tennessee                           Jackson   \n",
       "2      2015-12-26    Pennsylvania                      Philadelphia   \n",
       "3      2015-12-25         Florida                      Jacksonville   \n",
       "4      2015-12-25         Alabama                            Mobile   \n",
       "5      2015-12-21      California                       San Leandro   \n",
       "6      2015-12-20  North Carolina                        Wilmington   \n",
       "7      2015-12-20         Florida                    Miami (Goulds)   \n",
       "8      2015-12-20         Florida               Miami-dade (county)   \n",
       "9      2015-12-14        Illinois                Lovejoy (Brooklyn)   \n",
       "10     2015-12-13      California                       Los Angeles   \n",
       "11     2015-12-13      California                  Huntington Beach   \n",
       "12     2015-12-12         Georgia                          Savannah   \n",
       "13     2015-12-11        Maryland                         Baltimore   \n",
       "14     2015-12-11    Pennsylvania         Pittsburgh (Mount Oliver)   \n",
       "15     2015-12-08            Ohio            Cincinnati (Fairmount)   \n",
       "16     2015-12-06       Louisiana                          Raceland   \n",
       "17     2015-12-06        Nebraska                             Omaha   \n",
       "18     2015-12-02      California                    San Bernardino   \n",
       "19     2015-12-02         Georgia                          Savannah   \n",
       "20     2015-11-29        Illinois                          Kankakee   \n",
       "21     2015-11-27        Colorado                  Colorado Springs   \n",
       "22     2015-11-27      California                        Sacramento   \n",
       "23     2015-11-24  South Carolina                    Horry (county)   \n",
       "24     2015-11-23            Ohio                          Columbus   \n",
       "25     2015-11-23       Minnesota                       Minneapolis   \n",
       "26     2015-11-22           Texas                       Brownsville   \n",
       "27     2015-11-22      Washington                           Seattle   \n",
       "28     2015-11-22       Louisiana                       New Orleans   \n",
       "29     2015-11-22        New York                          Newburgh   \n",
       "..            ...             ...                               ...   \n",
       "300    2015-02-09         Florida                   New Port Richey   \n",
       "301    2015-02-08       Tennessee                        Maury City   \n",
       "302    2015-02-07         Georgia                      Douglasville   \n",
       "303    2015-02-06        Oklahoma                             Tulsa   \n",
       "304    2015-02-05            Ohio  Beachwood (Warrensville Heights)   \n",
       "305    2015-02-01        New York                          Syracuse   \n",
       "306    2015-02-01        New York              New York (Manhattan)   \n",
       "307    2015-01-31         Georgia                          Lagrange   \n",
       "308    2015-01-28         Georgia                     Dekalb County   \n",
       "309    2015-01-26      California                          Stockton   \n",
       "310    2015-01-24        New York                  Arverne (Queens)   \n",
       "311    2015-01-24        Nebraska                             Omaha   \n",
       "312    2015-01-23   Massachusetts                            Boston   \n",
       "313    2015-01-20       Tennessee                       Clarksville   \n",
       "314    2015-01-19           Texas                       San Antonio   \n",
       "315    2015-01-16      California                           Oakland   \n",
       "316    2015-01-13        Virginia                        Portsmouth   \n",
       "317    2015-01-13        Illinois                          Rockford   \n",
       "318    2015-01-11  North Carolina                        Hope Mills   \n",
       "319    2015-01-11         Florida                          Lakeland   \n",
       "320    2015-01-11      California                          San Jose   \n",
       "321    2015-01-10          Kansas                           Wichita   \n",
       "322    2015-01-09      California                     San Francisco   \n",
       "323    2015-01-08   Massachusetts                            Boston   \n",
       "324    2015-01-07       Tennessee                       Chattanooga   \n",
       "325    2015-01-06         Florida                             Miami   \n",
       "326    2015-01-04        Virginia                           Roanoke   \n",
       "327    2015-01-04           Texas                            Dallas   \n",
       "328    2015-01-02         Georgia                          Savannah   \n",
       "329    2015-01-01       Tennessee                           Memphis   \n",
       "\n",
       "                                               address  #_killed  #_injured  \\\n",
       "0                          1900 block of Amelia Street         0          5   \n",
       "1                                        North Parkway         0          4   \n",
       "2                                   4210 Macalester St         0          4   \n",
       "3                                  Franklin and Odessa         0          4   \n",
       "4                                 785 Schillinger Rd S         0          4   \n",
       "5                      14600 block of East 14th Street         0          4   \n",
       "6                               11th and Castle Street         1          4   \n",
       "7                         21630 Southwest 120th Avenue         1          4   \n",
       "8    Northeast Seventh Avenue and Northeast 166th S...         0          4   \n",
       "9                                     307 Jefferson St         1          3   \n",
       "10                               5550 S. Flower Street         1          3   \n",
       "11                         17000 block of Keelson Lane         0          4   \n",
       "12                                     Whitaker Street         0          4   \n",
       "13                   5100 block of Park Heights Avenue         1          3   \n",
       "14                      200 Block of  Brownsville Road         0          4   \n",
       "15                      2300 block of Baltimore Avenue         1          3   \n",
       "16                                       Market Street         1          3   \n",
       "17                North 108th Street and Military Road         2          3   \n",
       "18                          1365 South Waterman Avenue        16         19   \n",
       "19                       100 block of West 33rd Street         1          3   \n",
       "20                                     648 E. Court St         0          5   \n",
       "21                                3480 Centennial Blvd         3          9   \n",
       "22                           7900 block of Florin Road         2          2   \n",
       "23                                 1321 Colletta Court         0          4   \n",
       "24                       90 block of S. Terrace Avenue         4          1   \n",
       "25                                 Morgan Avenue North         0          5   \n",
       "26                                1800 Block of FM 802         0          4   \n",
       "27                                   Broadway and Pike         0          4   \n",
       "28                        1900 block of Gallier Street         0         17   \n",
       "29                                        203 Broadway         0          5   \n",
       "..                                                 ...       ...        ...   \n",
       "300                                  9552 Adler Street         3          1   \n",
       "301                                    251 Dupree Road         0          6   \n",
       "302                            3640 Willow Tree Circle         5          2   \n",
       "303                              1219 N. Sheridan Road         1          4   \n",
       "304                                       Harvard Road         3          3   \n",
       "305                           1217 West Fayette Street         0          6   \n",
       "306                                      3345 Broadway         1          4   \n",
       "307                      100 block of Woodstream Trail         4          0   \n",
       "308                          1600 block of Panola Road         1          3   \n",
       "309                        1500 block of E. 9th Street         1          3   \n",
       "310                                231-11 148th Avenue         4          1   \n",
       "311                                     3402 Parker St         3          5   \n",
       "312                                  954 Parker Street         0          6   \n",
       "313                                 321 Lansinger Lane         1          3   \n",
       "314                            1000 block of Gibbs St.         2          5   \n",
       "315                                     105th and Edes         2          2   \n",
       "316                 4100 block of Portsmouth Boulevard         0          5   \n",
       "317                         700 block of Oakley Avenue         2          2   \n",
       "318                        1900 block of Gumberry Road         2          5   \n",
       "319                                    7665 Chase Road         1          3   \n",
       "320                                  3840 Monterey Hwy         0          5   \n",
       "321                                4859 E Harry Street         2          2   \n",
       "322                            Laguna and Page streets         4          0   \n",
       "323                               104 Harrishof Street         1          3   \n",
       "324                               773 West Main Street         1          3   \n",
       "325                       1300 block of NW 62nd Street         1          3   \n",
       "326                             3634 Shenandoah Ave NW         2          4   \n",
       "327                          2000 block of Ben Hur St.         3          1   \n",
       "328                        500 block of W. 54th Street         1          4   \n",
       "329                   Interstate 240 and Poplar Avenue         0          5   \n",
       "\n",
       "     operations  \n",
       "0           NaN  \n",
       "1           NaN  \n",
       "2           NaN  \n",
       "3           NaN  \n",
       "4           NaN  \n",
       "5           NaN  \n",
       "6           NaN  \n",
       "7           NaN  \n",
       "8           NaN  \n",
       "9           NaN  \n",
       "10          NaN  \n",
       "11          NaN  \n",
       "12          NaN  \n",
       "13          NaN  \n",
       "14          NaN  \n",
       "15          NaN  \n",
       "16          NaN  \n",
       "17          NaN  \n",
       "18          NaN  \n",
       "19          NaN  \n",
       "20          NaN  \n",
       "21          NaN  \n",
       "22          NaN  \n",
       "23          NaN  \n",
       "24          NaN  \n",
       "25          NaN  \n",
       "26          NaN  \n",
       "27          NaN  \n",
       "28          NaN  \n",
       "29          NaN  \n",
       "..          ...  \n",
       "300         NaN  \n",
       "301         NaN  \n",
       "302         NaN  \n",
       "303         NaN  \n",
       "304         NaN  \n",
       "305         NaN  \n",
       "306         NaN  \n",
       "307         NaN  \n",
       "308         NaN  \n",
       "309         NaN  \n",
       "310         NaN  \n",
       "311         NaN  \n",
       "312         NaN  \n",
       "313         NaN  \n",
       "314         NaN  \n",
       "315         NaN  \n",
       "316         NaN  \n",
       "317         NaN  \n",
       "318         NaN  \n",
       "319         NaN  \n",
       "320         NaN  \n",
       "321         NaN  \n",
       "322         NaN  \n",
       "323         NaN  \n",
       "324         NaN  \n",
       "325         NaN  \n",
       "326         NaN  \n",
       "327         NaN  \n",
       "328         NaN  \n",
       "329         NaN  \n",
       "\n",
       "[330 rows x 7 columns]>"
      ]
     },
     "execution_count": 15,
     "metadata": {},
     "output_type": "execute_result"
    }
   ],
   "source": [
    "date = pd.to_datetime(df.incident_date)\n",
    "df.incident_date = date\n",
    "df.info"
   ]
  },
  {
   "cell_type": "code",
   "execution_count": 21,
   "metadata": {
    "collapsed": false
   },
   "outputs": [
    {
     "data": {
      "text/plain": [
       "Index(['incident_date', 'state', 'city_or_county', 'address', '#_killed',\n",
       "       '#_injured', 'operations'],\n",
       "      dtype='object')"
      ]
     },
     "execution_count": 21,
     "metadata": {},
     "output_type": "execute_result"
    }
   ],
   "source": [
    "df.columns"
   ]
  },
  {
   "cell_type": "code",
   "execution_count": null,
   "metadata": {
    "collapsed": true
   },
   "outputs": [],
   "source": []
  },
  {
   "cell_type": "markdown",
   "metadata": {},
   "source": [
    "## 4. Make a new column `month`\n",
    "\n",
    "Using that `date` column, create a new column called `month` that will have an `int` representing the ordinal month (e.g. `1` would indicate January)\n",
    "\n",
    "HINT: Try pulling out a single date (use `.loc` for practice!) and extract the month.  Then try using the `.map` function to create a new column"
   ]
  },
  {
   "cell_type": "code",
   "execution_count": 26,
   "metadata": {
    "collapsed": false
   },
   "outputs": [
    {
     "name": "stdout",
     "output_type": "stream",
     "text": [
      "12\n"
     ]
    }
   ],
   "source": [
    "month = df.loc[0, 'incident_date'].month\n",
    "print(month)"
   ]
  },
  {
   "cell_type": "markdown",
   "metadata": {
    "collapsed": true
   },
   "source": []
  },
  {
   "cell_type": "code",
   "execution_count": 28,
   "metadata": {
    "collapsed": false
   },
   "outputs": [
    {
     "data": {
      "text/plain": [
       "<bound method NDFrame.head of 0      12\n",
       "1      12\n",
       "2      12\n",
       "3      12\n",
       "4      12\n",
       "5      12\n",
       "6      12\n",
       "7      12\n",
       "8      12\n",
       "9      12\n",
       "10     12\n",
       "11     12\n",
       "12     12\n",
       "13     12\n",
       "14     12\n",
       "15     12\n",
       "16     12\n",
       "17     12\n",
       "18     12\n",
       "19     12\n",
       "20     11\n",
       "21     11\n",
       "22     11\n",
       "23     11\n",
       "24     11\n",
       "25     11\n",
       "26     11\n",
       "27     11\n",
       "28     11\n",
       "29     11\n",
       "       ..\n",
       "300     2\n",
       "301     2\n",
       "302     2\n",
       "303     2\n",
       "304     2\n",
       "305     2\n",
       "306     2\n",
       "307     1\n",
       "308     1\n",
       "309     1\n",
       "310     1\n",
       "311     1\n",
       "312     1\n",
       "313     1\n",
       "314     1\n",
       "315     1\n",
       "316     1\n",
       "317     1\n",
       "318     1\n",
       "319     1\n",
       "320     1\n",
       "321     1\n",
       "322     1\n",
       "323     1\n",
       "324     1\n",
       "325     1\n",
       "326     1\n",
       "327     1\n",
       "328     1\n",
       "329     1\n",
       "Name: month, dtype: int64>"
      ]
     },
     "execution_count": 28,
     "metadata": {},
     "output_type": "execute_result"
    }
   ],
   "source": [
    "df['month'] = df['incident_date'].dt.month\n",
    "df['month'].head"
   ]
  },
  {
   "cell_type": "markdown",
   "metadata": {},
   "source": [
    "## 5. Drop the `operations` column\n",
    "\n",
    "It looks like the operations column doesn't actually contain any useful information so let's drop that!"
   ]
  },
  {
   "cell_type": "code",
   "execution_count": 29,
   "metadata": {
    "collapsed": true
   },
   "outputs": [],
   "source": [
    "df.drop('operations', axis=1, inplace=True)"
   ]
  },
  {
   "cell_type": "code",
   "execution_count": 30,
   "metadata": {
    "collapsed": false
   },
   "outputs": [
    {
     "data": {
      "text/plain": [
       "Index(['incident_date', 'state', 'city_or_county', 'address', '#_killed',\n",
       "       '#_injured', 'month'],\n",
       "      dtype='object')"
      ]
     },
     "execution_count": 30,
     "metadata": {},
     "output_type": "execute_result"
    }
   ],
   "source": [
    "df.columns"
   ]
  },
  {
   "cell_type": "code",
   "execution_count": null,
   "metadata": {
    "collapsed": true
   },
   "outputs": [],
   "source": []
  },
  {
   "cell_type": "markdown",
   "metadata": {},
   "source": [
    "## 6. How many incidents occured in each Month?\n",
    "\n",
    "Let's look at how many incidents took place in each month.\n",
    "HINT: (http://pandas.pydata.org/pandas-docs/stable/generated/pandas.DataFrame.groupby.html)"
   ]
  },
  {
   "cell_type": "code",
   "execution_count": 31,
   "metadata": {
    "collapsed": false
   },
   "outputs": [
    {
     "data": {
      "text/plain": [
       "<bound method NDFrame.head of     incident_date           state                    city_or_county  \\\n",
       "0      2015-12-31       Louisiana                       New Orleans   \n",
       "1      2015-12-27       Tennessee                           Jackson   \n",
       "2      2015-12-26    Pennsylvania                      Philadelphia   \n",
       "3      2015-12-25         Florida                      Jacksonville   \n",
       "4      2015-12-25         Alabama                            Mobile   \n",
       "5      2015-12-21      California                       San Leandro   \n",
       "6      2015-12-20  North Carolina                        Wilmington   \n",
       "7      2015-12-20         Florida                    Miami (Goulds)   \n",
       "8      2015-12-20         Florida               Miami-dade (county)   \n",
       "9      2015-12-14        Illinois                Lovejoy (Brooklyn)   \n",
       "10     2015-12-13      California                       Los Angeles   \n",
       "11     2015-12-13      California                  Huntington Beach   \n",
       "12     2015-12-12         Georgia                          Savannah   \n",
       "13     2015-12-11        Maryland                         Baltimore   \n",
       "14     2015-12-11    Pennsylvania         Pittsburgh (Mount Oliver)   \n",
       "15     2015-12-08            Ohio            Cincinnati (Fairmount)   \n",
       "16     2015-12-06       Louisiana                          Raceland   \n",
       "17     2015-12-06        Nebraska                             Omaha   \n",
       "18     2015-12-02      California                    San Bernardino   \n",
       "19     2015-12-02         Georgia                          Savannah   \n",
       "20     2015-11-29        Illinois                          Kankakee   \n",
       "21     2015-11-27        Colorado                  Colorado Springs   \n",
       "22     2015-11-27      California                        Sacramento   \n",
       "23     2015-11-24  South Carolina                    Horry (county)   \n",
       "24     2015-11-23            Ohio                          Columbus   \n",
       "25     2015-11-23       Minnesota                       Minneapolis   \n",
       "26     2015-11-22           Texas                       Brownsville   \n",
       "27     2015-11-22      Washington                           Seattle   \n",
       "28     2015-11-22       Louisiana                       New Orleans   \n",
       "29     2015-11-22        New York                          Newburgh   \n",
       "..            ...             ...                               ...   \n",
       "300    2015-02-09         Florida                   New Port Richey   \n",
       "301    2015-02-08       Tennessee                        Maury City   \n",
       "302    2015-02-07         Georgia                      Douglasville   \n",
       "303    2015-02-06        Oklahoma                             Tulsa   \n",
       "304    2015-02-05            Ohio  Beachwood (Warrensville Heights)   \n",
       "305    2015-02-01        New York                          Syracuse   \n",
       "306    2015-02-01        New York              New York (Manhattan)   \n",
       "307    2015-01-31         Georgia                          Lagrange   \n",
       "308    2015-01-28         Georgia                     Dekalb County   \n",
       "309    2015-01-26      California                          Stockton   \n",
       "310    2015-01-24        New York                  Arverne (Queens)   \n",
       "311    2015-01-24        Nebraska                             Omaha   \n",
       "312    2015-01-23   Massachusetts                            Boston   \n",
       "313    2015-01-20       Tennessee                       Clarksville   \n",
       "314    2015-01-19           Texas                       San Antonio   \n",
       "315    2015-01-16      California                           Oakland   \n",
       "316    2015-01-13        Virginia                        Portsmouth   \n",
       "317    2015-01-13        Illinois                          Rockford   \n",
       "318    2015-01-11  North Carolina                        Hope Mills   \n",
       "319    2015-01-11         Florida                          Lakeland   \n",
       "320    2015-01-11      California                          San Jose   \n",
       "321    2015-01-10          Kansas                           Wichita   \n",
       "322    2015-01-09      California                     San Francisco   \n",
       "323    2015-01-08   Massachusetts                            Boston   \n",
       "324    2015-01-07       Tennessee                       Chattanooga   \n",
       "325    2015-01-06         Florida                             Miami   \n",
       "326    2015-01-04        Virginia                           Roanoke   \n",
       "327    2015-01-04           Texas                            Dallas   \n",
       "328    2015-01-02         Georgia                          Savannah   \n",
       "329    2015-01-01       Tennessee                           Memphis   \n",
       "\n",
       "                                               address  #_killed  #_injured  \\\n",
       "0                          1900 block of Amelia Street         0          5   \n",
       "1                                        North Parkway         0          4   \n",
       "2                                   4210 Macalester St         0          4   \n",
       "3                                  Franklin and Odessa         0          4   \n",
       "4                                 785 Schillinger Rd S         0          4   \n",
       "5                      14600 block of East 14th Street         0          4   \n",
       "6                               11th and Castle Street         1          4   \n",
       "7                         21630 Southwest 120th Avenue         1          4   \n",
       "8    Northeast Seventh Avenue and Northeast 166th S...         0          4   \n",
       "9                                     307 Jefferson St         1          3   \n",
       "10                               5550 S. Flower Street         1          3   \n",
       "11                         17000 block of Keelson Lane         0          4   \n",
       "12                                     Whitaker Street         0          4   \n",
       "13                   5100 block of Park Heights Avenue         1          3   \n",
       "14                      200 Block of  Brownsville Road         0          4   \n",
       "15                      2300 block of Baltimore Avenue         1          3   \n",
       "16                                       Market Street         1          3   \n",
       "17                North 108th Street and Military Road         2          3   \n",
       "18                          1365 South Waterman Avenue        16         19   \n",
       "19                       100 block of West 33rd Street         1          3   \n",
       "20                                     648 E. Court St         0          5   \n",
       "21                                3480 Centennial Blvd         3          9   \n",
       "22                           7900 block of Florin Road         2          2   \n",
       "23                                 1321 Colletta Court         0          4   \n",
       "24                       90 block of S. Terrace Avenue         4          1   \n",
       "25                                 Morgan Avenue North         0          5   \n",
       "26                                1800 Block of FM 802         0          4   \n",
       "27                                   Broadway and Pike         0          4   \n",
       "28                        1900 block of Gallier Street         0         17   \n",
       "29                                        203 Broadway         0          5   \n",
       "..                                                 ...       ...        ...   \n",
       "300                                  9552 Adler Street         3          1   \n",
       "301                                    251 Dupree Road         0          6   \n",
       "302                            3640 Willow Tree Circle         5          2   \n",
       "303                              1219 N. Sheridan Road         1          4   \n",
       "304                                       Harvard Road         3          3   \n",
       "305                           1217 West Fayette Street         0          6   \n",
       "306                                      3345 Broadway         1          4   \n",
       "307                      100 block of Woodstream Trail         4          0   \n",
       "308                          1600 block of Panola Road         1          3   \n",
       "309                        1500 block of E. 9th Street         1          3   \n",
       "310                                231-11 148th Avenue         4          1   \n",
       "311                                     3402 Parker St         3          5   \n",
       "312                                  954 Parker Street         0          6   \n",
       "313                                 321 Lansinger Lane         1          3   \n",
       "314                            1000 block of Gibbs St.         2          5   \n",
       "315                                     105th and Edes         2          2   \n",
       "316                 4100 block of Portsmouth Boulevard         0          5   \n",
       "317                         700 block of Oakley Avenue         2          2   \n",
       "318                        1900 block of Gumberry Road         2          5   \n",
       "319                                    7665 Chase Road         1          3   \n",
       "320                                  3840 Monterey Hwy         0          5   \n",
       "321                                4859 E Harry Street         2          2   \n",
       "322                            Laguna and Page streets         4          0   \n",
       "323                               104 Harrishof Street         1          3   \n",
       "324                               773 West Main Street         1          3   \n",
       "325                       1300 block of NW 62nd Street         1          3   \n",
       "326                             3634 Shenandoah Ave NW         2          4   \n",
       "327                          2000 block of Ben Hur St.         3          1   \n",
       "328                        500 block of W. 54th Street         1          4   \n",
       "329                   Interstate 240 and Poplar Avenue         0          5   \n",
       "\n",
       "     month  \n",
       "0       12  \n",
       "1       12  \n",
       "2       12  \n",
       "3       12  \n",
       "4       12  \n",
       "5       12  \n",
       "6       12  \n",
       "7       12  \n",
       "8       12  \n",
       "9       12  \n",
       "10      12  \n",
       "11      12  \n",
       "12      12  \n",
       "13      12  \n",
       "14      12  \n",
       "15      12  \n",
       "16      12  \n",
       "17      12  \n",
       "18      12  \n",
       "19      12  \n",
       "20      11  \n",
       "21      11  \n",
       "22      11  \n",
       "23      11  \n",
       "24      11  \n",
       "25      11  \n",
       "26      11  \n",
       "27      11  \n",
       "28      11  \n",
       "29      11  \n",
       "..     ...  \n",
       "300      2  \n",
       "301      2  \n",
       "302      2  \n",
       "303      2  \n",
       "304      2  \n",
       "305      2  \n",
       "306      2  \n",
       "307      1  \n",
       "308      1  \n",
       "309      1  \n",
       "310      1  \n",
       "311      1  \n",
       "312      1  \n",
       "313      1  \n",
       "314      1  \n",
       "315      1  \n",
       "316      1  \n",
       "317      1  \n",
       "318      1  \n",
       "319      1  \n",
       "320      1  \n",
       "321      1  \n",
       "322      1  \n",
       "323      1  \n",
       "324      1  \n",
       "325      1  \n",
       "326      1  \n",
       "327      1  \n",
       "328      1  \n",
       "329      1  \n",
       "\n",
       "[330 rows x 7 columns]>"
      ]
     },
     "execution_count": 31,
     "metadata": {},
     "output_type": "execute_result"
    }
   ],
   "source": [
    "df.head"
   ]
  },
  {
   "cell_type": "code",
   "execution_count": 32,
   "metadata": {
    "collapsed": false
   },
   "outputs": [
    {
     "data": {
      "text/plain": [
       "month\n",
       "1     23\n",
       "2     16\n",
       "3     20\n",
       "4     19\n",
       "5     35\n",
       "6     36\n",
       "7     41\n",
       "8     39\n",
       "9     34\n",
       "10    20\n",
       "11    27\n",
       "12    20\n",
       "Name: incident_date, dtype: int64"
      ]
     },
     "execution_count": 32,
     "metadata": {},
     "output_type": "execute_result"
    }
   ],
   "source": [
    "by_month = df.groupby('month')\n",
    "by_month.count()['incident_date']"
   ]
  },
  {
   "cell_type": "code",
   "execution_count": 33,
   "metadata": {
    "collapsed": false
   },
   "outputs": [
    {
     "data": {
      "text/plain": [
       "Index(['incident_date', 'state', 'city_or_county', 'address', '#_killed',\n",
       "       '#_injured', 'month'],\n",
       "      dtype='object')"
      ]
     },
     "execution_count": 33,
     "metadata": {},
     "output_type": "execute_result"
    }
   ],
   "source": [
    "df.columns"
   ]
  },
  {
   "cell_type": "markdown",
   "metadata": {},
   "source": [
    "## 7. How many casualties occured in each Month?\n",
    "\n",
    "Right now we have the number of people involved broken out into the number killed and the number injured.  Let's create a single column that indicates the number of casualties (i.e. the sum of killed and injured)"
   ]
  },
  {
   "cell_type": "code",
   "execution_count": 39,
   "metadata": {
    "collapsed": false
   },
   "outputs": [
    {
     "data": {
      "text/plain": [
       "Index(['incident_date', 'state', 'city_or_county', 'address', '#_killed',\n",
       "       '#_injured', 'month', 'casualties'],\n",
       "      dtype='object')"
      ]
     },
     "execution_count": 39,
     "metadata": {},
     "output_type": "execute_result"
    }
   ],
   "source": [
    "df['casualties'] = df['#_killed']+df['#_injured']\n",
    "df.columns"
   ]
  },
  {
   "cell_type": "code",
   "execution_count": 40,
   "metadata": {
    "collapsed": false
   },
   "outputs": [
    {
     "data": {
      "text/plain": [
       "month\n",
       "1     111\n",
       "2      85\n",
       "3     102\n",
       "4      88\n",
       "5     185\n",
       "6     185\n",
       "7     206\n",
       "8     200\n",
       "9     163\n",
       "10    107\n",
       "11    137\n",
       "12    115\n",
       "Name: casualties, dtype: int64"
      ]
     },
     "execution_count": 40,
     "metadata": {},
     "output_type": "execute_result"
    }
   ],
   "source": [
    "df.groupby('month').sum()['casualties']"
   ]
  },
  {
   "cell_type": "code",
   "execution_count": null,
   "metadata": {
    "collapsed": true
   },
   "outputs": [],
   "source": []
  },
  {
   "cell_type": "markdown",
   "metadata": {},
   "source": [
    "## 8. How many casualties occured by State?\n",
    "\n",
    "Now that we have a casualties column, let's brake down the number of casualties by state."
   ]
  },
  {
   "cell_type": "code",
   "execution_count": 41,
   "metadata": {
    "collapsed": false
   },
   "outputs": [
    {
     "data": {
      "text/plain": [
       "state\n",
       "Alabama                  17\n",
       "Arizona                  29\n",
       "Arkansas                 16\n",
       "California              158\n",
       "Colorado                 20\n",
       "Connecticut              14\n",
       "Delaware                  6\n",
       "District of Columbia      9\n",
       "Florida                 106\n",
       "Georgia                  98\n",
       "Illinois                117\n",
       "Indiana                  49\n",
       "Iowa                      9\n",
       "Kansas                    4\n",
       "Kentucky                 20\n",
       "Louisiana                83\n",
       "Maryland                 61\n",
       "Massachusetts            24\n",
       "Michigan                 54\n",
       "Minnesota                24\n",
       "Mississippi               9\n",
       "Missouri                 51\n",
       "Montana                   5\n",
       "Nebraska                 17\n",
       "Nevada                    4\n",
       "New Jersey               36\n",
       "New Mexico               11\n",
       "New York                109\n",
       "North Carolina           59\n",
       "Ohio                     67\n",
       "Oklahoma                 19\n",
       "Oregon                   24\n",
       "Pennsylvania             73\n",
       "Rhode Island              4\n",
       "South Carolina           51\n",
       "South Dakota              6\n",
       "Tennessee                56\n",
       "Texas                   119\n",
       "Vermont                   4\n",
       "Virginia                 23\n",
       "Washington                4\n",
       "Wisconsin                15\n",
       "Name: casualties, dtype: int64"
      ]
     },
     "execution_count": 41,
     "metadata": {},
     "output_type": "execute_result"
    }
   ],
   "source": [
    "df.groupby('state').sum()['casualties']"
   ]
  },
  {
   "cell_type": "code",
   "execution_count": null,
   "metadata": {
    "collapsed": true
   },
   "outputs": [],
   "source": []
  },
  {
   "cell_type": "code",
   "execution_count": null,
   "metadata": {
    "collapsed": true
   },
   "outputs": [],
   "source": []
  },
  {
   "cell_type": "markdown",
   "metadata": {},
   "source": [
    "## 9. How many distinct City or Counties are represented?\n",
    "\n",
    "Let's see how many distinct City or Counties are represented in this dataset."
   ]
  },
  {
   "cell_type": "code",
   "execution_count": 42,
   "metadata": {
    "collapsed": false
   },
   "outputs": [
    {
     "data": {
      "text/plain": [
       "Index(['incident_date', 'state', 'city_or_county', 'address', '#_killed',\n",
       "       '#_injured', 'month', 'casualties'],\n",
       "      dtype='object')"
      ]
     },
     "execution_count": 42,
     "metadata": {},
     "output_type": "execute_result"
    }
   ],
   "source": [
    "df.columns"
   ]
  },
  {
   "cell_type": "code",
   "execution_count": 43,
   "metadata": {
    "collapsed": false
   },
   "outputs": [
    {
     "data": {
      "text/plain": [
       "205"
      ]
     },
     "execution_count": 43,
     "metadata": {},
     "output_type": "execute_result"
    }
   ],
   "source": [
    "df['city_or_county'].nunique()"
   ]
  },
  {
   "cell_type": "code",
   "execution_count": null,
   "metadata": {
    "collapsed": true
   },
   "outputs": [],
   "source": []
  },
  {
   "cell_type": "markdown",
   "metadata": {},
   "source": [
    "## 10. INDEXING!\n",
    "\n",
    "You should be using `.loc`, `.iloc`, or `.ix` for all of these questions!\n",
    "\n",
    "1. Return all rows occuring in Alabama\n",
    "2. Return all shootings with more than 5 people killed\n",
    "3. Return the address of shootings occuring on or after November 1st\n",
    "4. Return the address and date of all shootings occuring in Louisiana or Florida with the casualty counts ranging from 6 to 10 (inclusive) "
   ]
  },
  {
   "cell_type": "code",
   "execution_count": 45,
   "metadata": {
    "collapsed": false
   },
   "outputs": [
    {
     "data": {
      "text/html": [
       "<div>\n",
       "<table border=\"1\" class=\"dataframe\">\n",
       "  <thead>\n",
       "    <tr style=\"text-align: right;\">\n",
       "      <th></th>\n",
       "      <th>incident_date</th>\n",
       "      <th>state</th>\n",
       "      <th>city_or_county</th>\n",
       "      <th>address</th>\n",
       "      <th>#_killed</th>\n",
       "      <th>#_injured</th>\n",
       "      <th>month</th>\n",
       "      <th>casualties</th>\n",
       "    </tr>\n",
       "  </thead>\n",
       "  <tbody>\n",
       "    <tr>\n",
       "      <th>4</th>\n",
       "      <td>2015-12-25</td>\n",
       "      <td>Alabama</td>\n",
       "      <td>Mobile</td>\n",
       "      <td>785 Schillinger Rd S</td>\n",
       "      <td>0</td>\n",
       "      <td>4</td>\n",
       "      <td>12</td>\n",
       "      <td>4</td>\n",
       "    </tr>\n",
       "    <tr>\n",
       "      <th>35</th>\n",
       "      <td>2015-11-16</td>\n",
       "      <td>Alabama</td>\n",
       "      <td>Cherokee (county)</td>\n",
       "      <td>1400 block of County Road 664</td>\n",
       "      <td>3</td>\n",
       "      <td>1</td>\n",
       "      <td>11</td>\n",
       "      <td>4</td>\n",
       "    </tr>\n",
       "    <tr>\n",
       "      <th>229</th>\n",
       "      <td>2015-05-24</td>\n",
       "      <td>Alabama</td>\n",
       "      <td>Montgomery</td>\n",
       "      <td>Smiley Court</td>\n",
       "      <td>1</td>\n",
       "      <td>3</td>\n",
       "      <td>5</td>\n",
       "      <td>4</td>\n",
       "    </tr>\n",
       "    <tr>\n",
       "      <th>259</th>\n",
       "      <td>2015-04-18</td>\n",
       "      <td>Alabama</td>\n",
       "      <td>Montgomery</td>\n",
       "      <td>1800 block of Gibbs Court</td>\n",
       "      <td>0</td>\n",
       "      <td>5</td>\n",
       "      <td>4</td>\n",
       "      <td>5</td>\n",
       "    </tr>\n",
       "  </tbody>\n",
       "</table>\n",
       "</div>"
      ],
      "text/plain": [
       "    incident_date    state     city_or_county                        address  \\\n",
       "4      2015-12-25  Alabama             Mobile           785 Schillinger Rd S   \n",
       "35     2015-11-16  Alabama  Cherokee (county)  1400 block of County Road 664   \n",
       "229    2015-05-24  Alabama         Montgomery                   Smiley Court   \n",
       "259    2015-04-18  Alabama         Montgomery      1800 block of Gibbs Court   \n",
       "\n",
       "     #_killed  #_injured  month  casualties  \n",
       "4           0          4     12           4  \n",
       "35          3          1     11           4  \n",
       "229         1          3      5           4  \n",
       "259         0          5      4           5  "
      ]
     },
     "execution_count": 45,
     "metadata": {},
     "output_type": "execute_result"
    }
   ],
   "source": [
    "df[df['state'] == 'Alabama']"
   ]
  },
  {
   "cell_type": "code",
   "execution_count": 46,
   "metadata": {
    "collapsed": false
   },
   "outputs": [
    {
     "data": {
      "text/html": [
       "<div>\n",
       "<table border=\"1\" class=\"dataframe\">\n",
       "  <thead>\n",
       "    <tr style=\"text-align: right;\">\n",
       "      <th></th>\n",
       "      <th>incident_date</th>\n",
       "      <th>state</th>\n",
       "      <th>city_or_county</th>\n",
       "      <th>address</th>\n",
       "      <th>#_killed</th>\n",
       "      <th>#_injured</th>\n",
       "      <th>month</th>\n",
       "      <th>casualties</th>\n",
       "    </tr>\n",
       "  </thead>\n",
       "  <tbody>\n",
       "    <tr>\n",
       "      <th>18</th>\n",
       "      <td>2015-12-02</td>\n",
       "      <td>California</td>\n",
       "      <td>San Bernardino</td>\n",
       "      <td>1365 South Waterman Avenue</td>\n",
       "      <td>16</td>\n",
       "      <td>19</td>\n",
       "      <td>12</td>\n",
       "      <td>35</td>\n",
       "    </tr>\n",
       "    <tr>\n",
       "      <th>66</th>\n",
       "      <td>2015-10-01</td>\n",
       "      <td>Oregon</td>\n",
       "      <td>Roseburg</td>\n",
       "      <td>1140 Umpqua College Rd</td>\n",
       "      <td>10</td>\n",
       "      <td>9</td>\n",
       "      <td>10</td>\n",
       "      <td>19</td>\n",
       "    </tr>\n",
       "    <tr>\n",
       "      <th>83</th>\n",
       "      <td>2015-09-17</td>\n",
       "      <td>South Dakota</td>\n",
       "      <td>Platte</td>\n",
       "      <td>36705 379th Street</td>\n",
       "      <td>6</td>\n",
       "      <td>0</td>\n",
       "      <td>9</td>\n",
       "      <td>6</td>\n",
       "    </tr>\n",
       "    <tr>\n",
       "      <th>128</th>\n",
       "      <td>2015-08-08</td>\n",
       "      <td>Texas</td>\n",
       "      <td>Houston</td>\n",
       "      <td>2211 Falling Oaks</td>\n",
       "      <td>8</td>\n",
       "      <td>0</td>\n",
       "      <td>8</td>\n",
       "      <td>8</td>\n",
       "    </tr>\n",
       "    <tr>\n",
       "      <th>159</th>\n",
       "      <td>2015-07-16</td>\n",
       "      <td>Tennessee</td>\n",
       "      <td>Chattanooga</td>\n",
       "      <td>4051 Amnicola Highway</td>\n",
       "      <td>6</td>\n",
       "      <td>2</td>\n",
       "      <td>7</td>\n",
       "      <td>8</td>\n",
       "    </tr>\n",
       "    <tr>\n",
       "      <th>195</th>\n",
       "      <td>2015-06-17</td>\n",
       "      <td>South Carolina</td>\n",
       "      <td>Charleston</td>\n",
       "      <td>110 Calhoun Street</td>\n",
       "      <td>9</td>\n",
       "      <td>0</td>\n",
       "      <td>6</td>\n",
       "      <td>9</td>\n",
       "    </tr>\n",
       "    <tr>\n",
       "      <th>235</th>\n",
       "      <td>2015-05-17</td>\n",
       "      <td>Texas</td>\n",
       "      <td>Waco</td>\n",
       "      <td>4671 S Jack Kultgen Expy</td>\n",
       "      <td>9</td>\n",
       "      <td>18</td>\n",
       "      <td>5</td>\n",
       "      <td>27</td>\n",
       "    </tr>\n",
       "    <tr>\n",
       "      <th>292</th>\n",
       "      <td>2015-02-26</td>\n",
       "      <td>Missouri</td>\n",
       "      <td>Tyrone</td>\n",
       "      <td>18279 Highway H</td>\n",
       "      <td>8</td>\n",
       "      <td>1</td>\n",
       "      <td>2</td>\n",
       "      <td>9</td>\n",
       "    </tr>\n",
       "  </tbody>\n",
       "</table>\n",
       "</div>"
      ],
      "text/plain": [
       "    incident_date           state  city_or_county                     address  \\\n",
       "18     2015-12-02      California  San Bernardino  1365 South Waterman Avenue   \n",
       "66     2015-10-01          Oregon        Roseburg      1140 Umpqua College Rd   \n",
       "83     2015-09-17    South Dakota          Platte          36705 379th Street   \n",
       "128    2015-08-08           Texas         Houston           2211 Falling Oaks   \n",
       "159    2015-07-16       Tennessee     Chattanooga       4051 Amnicola Highway   \n",
       "195    2015-06-17  South Carolina      Charleston          110 Calhoun Street   \n",
       "235    2015-05-17           Texas            Waco    4671 S Jack Kultgen Expy   \n",
       "292    2015-02-26        Missouri          Tyrone             18279 Highway H   \n",
       "\n",
       "     #_killed  #_injured  month  casualties  \n",
       "18         16         19     12          35  \n",
       "66         10          9     10          19  \n",
       "83          6          0      9           6  \n",
       "128         8          0      8           8  \n",
       "159         6          2      7           8  \n",
       "195         9          0      6           9  \n",
       "235         9         18      5          27  \n",
       "292         8          1      2           9  "
      ]
     },
     "execution_count": 46,
     "metadata": {},
     "output_type": "execute_result"
    }
   ],
   "source": [
    "df[df['#_killed'] > 5]"
   ]
  },
  {
   "cell_type": "markdown",
   "metadata": {
    "collapsed": true
   },
   "source": [
    "df[df['month'] > 10].head"
   ]
  },
  {
   "cell_type": "code",
   "execution_count": 52,
   "metadata": {
    "collapsed": false
   },
   "outputs": [
    {
     "ename": "ValueError",
     "evalue": "The truth value of a Series is ambiguous. Use a.empty, a.bool(), a.item(), a.any() or a.all().",
     "output_type": "error",
     "traceback": [
      "\u001b[0;31m---------------------------------------------------------------------------\u001b[0m",
      "\u001b[0;31mValueError\u001b[0m                                Traceback (most recent call last)",
      "\u001b[0;32m<ipython-input-52-cafe0686add4>\u001b[0m in \u001b[0;36m<module>\u001b[0;34m()\u001b[0m\n\u001b[0;32m----> 1\u001b[0;31m \u001b[0mdf\u001b[0m\u001b[0;34m[\u001b[0m\u001b[0mdf\u001b[0m\u001b[0;34m[\u001b[0m\u001b[0;34m'state'\u001b[0m\u001b[0;34m]\u001b[0m \u001b[0;32min\u001b[0m\u001b[0;34m(\u001b[0m\u001b[0;34m'Louisiana'\u001b[0m\u001b[0;34m,\u001b[0m\u001b[0;34m'Florida'\u001b[0m\u001b[0;34m)\u001b[0m\u001b[0;34m]\u001b[0m\u001b[0;34m.\u001b[0m\u001b[0mhead\u001b[0m\u001b[0;34m\u001b[0m\u001b[0m\n\u001b[0m",
      "\u001b[0;32m/home/tim/anaconda3/lib/python3.6/site-packages/pandas/core/generic.py\u001b[0m in \u001b[0;36m__nonzero__\u001b[0;34m(self)\u001b[0m\n\u001b[1;32m    915\u001b[0m         raise ValueError(\"The truth value of a {0} is ambiguous. \"\n\u001b[1;32m    916\u001b[0m                          \u001b[0;34m\"Use a.empty, a.bool(), a.item(), a.any() or a.all().\"\u001b[0m\u001b[0;34m\u001b[0m\u001b[0m\n\u001b[0;32m--> 917\u001b[0;31m                          .format(self.__class__.__name__))\n\u001b[0m\u001b[1;32m    918\u001b[0m \u001b[0;34m\u001b[0m\u001b[0m\n\u001b[1;32m    919\u001b[0m     \u001b[0m__bool__\u001b[0m \u001b[0;34m=\u001b[0m \u001b[0m__nonzero__\u001b[0m\u001b[0;34m\u001b[0m\u001b[0m\n",
      "\u001b[0;31mValueError\u001b[0m: The truth value of a Series is ambiguous. Use a.empty, a.bool(), a.item(), a.any() or a.all()."
     ]
    }
   ],
   "source": [
    "df[df['state'] == ('Louisiana','Florida').any()].head"
   ]
  },
  {
   "cell_type": "markdown",
   "metadata": {},
   "source": [
    "## 11. Sort by Date and reset index\n",
    "\n",
    "Let's reorder our Dataframe based on the date and reset our index to reflect this.\n",
    "\n",
    "NOTE: Don't use `df.sort()` as this method is deprecated!  Instead you should be using `df.sort_values()`"
   ]
  },
  {
   "cell_type": "code",
   "execution_count": null,
   "metadata": {
    "collapsed": true
   },
   "outputs": [],
   "source": []
  },
  {
   "cell_type": "code",
   "execution_count": null,
   "metadata": {
    "collapsed": true
   },
   "outputs": [],
   "source": []
  },
  {
   "cell_type": "code",
   "execution_count": null,
   "metadata": {
    "collapsed": true
   },
   "outputs": [],
   "source": []
  },
  {
   "cell_type": "markdown",
   "metadata": {},
   "source": [
    "## EXTRA CREDIT:  Create a graph showing the weekly frequency of shootings\n",
    "HINT: Set the index as the date and refer to http://pandas.pydata.org/pandas-docs/stable/generated/pandas.DataFrame.resample.html"
   ]
  },
  {
   "cell_type": "code",
   "execution_count": null,
   "metadata": {
    "collapsed": true
   },
   "outputs": [],
   "source": []
  }
 ],
 "metadata": {
  "kernelspec": {
   "display_name": "Python 3",
   "language": "python",
   "name": "python3"
  },
  "language_info": {
   "codemirror_mode": {
    "name": "ipython",
    "version": 3
   },
   "file_extension": ".py",
   "mimetype": "text/x-python",
   "name": "python",
   "nbconvert_exporter": "python",
   "pygments_lexer": "ipython3",
   "version": "3.6.0"
  }
 },
 "nbformat": 4,
 "nbformat_minor": 1
}
