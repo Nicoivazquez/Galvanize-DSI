{
 "cells": [
  {
   "cell_type": "markdown",
   "metadata": {},
   "source": [
    "# Plotting breakouts"
   ]
  },
  {
   "cell_type": "markdown",
   "metadata": {},
   "source": [
    "### Question 1 - Simple plot\n",
    "\n",
    "**WRITE** the sin wave code from the slide into the cell below and create a plot...\n",
    "\n",
    "  1. Can you change the size?\n",
    "  2. Can you save the figure as a png with a specific DPI?\n",
    "  "
   ]
  },
  {
   "cell_type": "code",
   "execution_count": 3,
   "metadata": {
    "collapsed": false
   },
   "outputs": [
    {
     "data": {
      "image/png": "[encoded data removed]",
      "text/plain": [
       "<matplotlib.figure.Figure at 0x7f0c342c7a20>"
      ]
     },
     "metadata": {},
     "output_type": "display_data"
    }
   ],
   "source": [
    "import numpy as np\n",
    "import matplotlib.pyplot as plt\n",
    "%matplotlib inline\n",
    "\n",
    "fig = plt.figure(figsize=(7,2))\n",
    "ax = fig.add_subplot(111)\n",
    "ax.set_ylabel('y-axis')\n",
    "ax.set_title('my_sine')\n",
    "\n",
    "t= np.arange(0.0, 1.0, 0.01)\n",
    "s= np.sin(2*np.pi*t)\n",
    "line, = ax.plot(t,s,color='blue',lw=2)\n",
    "#plt.show()\n",
    "#cannot save if you show first!  blocks cursor.\n",
    "plt.savefig('foo.png',dpi=400)"
   ]
  },
  {
   "cell_type": "markdown",
   "metadata": {},
   "source": [
    "### Question 2 - Create a plot\n",
    "\n",
    "  1. Go to the [Matplotlib gallery](http://matplotlib.org/gallery.html)\n",
    "  2. Select a plot that looks reasonably simple (i.e. barh_demo, fill_demo, hist_demo)\n",
    "  3. Make it work in the empty space below\n",
    "  4. Save it to disk\n",
    "  5. Did you use the pylab/artist interface?\n",
    "  6. [EXTRA] If you have time can you rewrite it using the other interface?"
   ]
  },
  {
   "cell_type": "code",
   "execution_count": 11,
   "metadata": {
    "collapsed": false
   },
   "outputs": [
    {
     "data": {
      "image/png": "[encoded data removed]",
      "text/plain": [
       "<matplotlib.figure.Figure at 0x7f265ed6a518>"
      ]
     },
     "metadata": {},
     "output_type": "display_data"
    }
   ],
   "source": [
    "np.random.seed(123)\n",
    "all_data = [np.random.normal(0, std, 100) for std in range(1,4)]\n",
    "fig, axes = plt.subplots(nrows=1, ncols=2, figsize=(9,4))\n",
    "\n",
    "bplot1 = axes[0].boxplot(all_data, vert=True, patch_artist=True)\n",
    "bplot2 = axes[1].boxplot(all_data, notch=True, vert=True, patch_artist=True)\n",
    "\n",
    "colors = ['pink', 'lightblue', 'lightgreen']\n",
    "for bplot in (bplot1, bplot2):\n",
    "    for patch, color in zip(bplot['boxes'], colors):\n",
    "        patch.set_facecolor(color)"
   ]
  },
  {
   "cell_type": "markdown",
   "metadata": {},
   "source": [
    "### Question 3 - Axes\n",
    "\n",
    "Now that you know about axes.  Create three subplots as follows.\n",
    "\n",
    "```\n",
    "## Hints\n",
    "x = np.random.normal(100)\n",
    "bins = 20\n",
    "...\n",
    "ax1.hist(x, normed=True,color=\"#9999FF\",bins=bins,histtype='stepfilled')\n",
    "...\n",
    "```"
   ]
  },
  {
   "cell_type": "code",
   "execution_count": 12,
   "metadata": {
    "collapsed": false
   },
   "outputs": [
    {
     "data": {
      "image/png": "[encoded data removed]",
      "text/plain": [
       "<matplotlib.figure.Figure at 0x7f0c1061fa58>"
      ]
     },
     "metadata": {},
     "output_type": "display_data"
    }
   ],
   "source": [
    "x = np.random.normal(0,1,100)\n",
    "bins = 20\n",
    "\n",
    "fig = plt.figure()\n",
    "ax1 = fig.add_subplot(2,2,1)\n",
    "ax2 = fig.add_subplot(2,2,2)\n",
    "ax3 = fig.add_subplot(2,1,2)\n",
    "\n",
    "for ax in [ax1,ax2,ax3]:\n",
    "    ax.hist(x, normed=True, color='#9999FF', bins=bins, histtype='stepfilled')\n",
    "    \n",
    "plt.show()\n",
    "\n",
    "#HOW TO IMPORT in Jupyter:\n",
    "#from IPython.display import Image\n",
    "#Image(filename='breakout-1.png')"
   ]
  },
  {
   "cell_type": "code",
   "execution_count": null,
   "metadata": {
    "collapsed": true
   },
   "outputs": [],
   "source": []
  }
 ],
 "metadata": {
  "kernelspec": {
   "display_name": "Python 3",
   "language": "python",
   "name": "python3"
  },
  "language_info": {
   "codemirror_mode": {
    "name": "ipython",
    "version": 3
   },
   "file_extension": ".py",
   "mimetype": "text/x-python",
   "name": "python",
   "nbconvert_exporter": "python",
   "pygments_lexer": "ipython3",
   "version": "3.6.0"
  }
 },
 "nbformat": 4,
 "nbformat_minor": 1
}
