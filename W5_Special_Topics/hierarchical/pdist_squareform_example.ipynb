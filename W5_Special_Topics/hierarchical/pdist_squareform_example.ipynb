{
 "cells": [
  {
   "cell_type": "markdown",
   "metadata": {},
   "source": [
    "## Demonstrate pdist and squareform"
   ]
  },
  {
   "cell_type": "code",
   "execution_count": 1,
   "metadata": {
    "collapsed": true
   },
   "outputs": [],
   "source": [
    "import matplotlib.pyplot as plt\n",
    "import numpy as np\n",
    "from scipy.spatial.distance import pdist       # pair-wise distances\n",
    "from scipy.spatial.distance import squareform  # dist. vector to square dist. matrix"
   ]
  },
  {
   "cell_type": "code",
   "execution_count": 2,
   "metadata": {
    "collapsed": false
   },
   "outputs": [],
   "source": [
    "data = np.array([[-0.6, -1.0], [0.0, -0.8], [-1.5, -0.4],\n",
    "                 [-1.4, -1.5], [1.1, -0.3], [-1.0, -1.1], \n",
    "                 [ 1.2,  0.0], [0.6, -0.3], [ 0.0,  0.7]])\n",
    "labels = np.array(['1', '2', '3', '4', '5', '6', '7', '8', '9'])"
   ]
  },
  {
   "cell_type": "code",
   "execution_count": 4,
   "metadata": {
    "collapsed": false
   },
   "outputs": [
    {
     "data": {
      "image/png": "[encoded data removed]",
      "text/plain": [
       "<matplotlib.figure.Figure at 0x7f997bff2588>"
      ]
     },
     "metadata": {},
     "output_type": "display_data"
    }
   ],
   "source": [
    "fig = plt.figure(figsize = (8,8))\n",
    "ax = fig.add_subplot(111)\n",
    "plt.scatter(data[:,0], data[:,1])\n",
    "\n",
    "for label, x, y in zip(labels, data[:, 0], data[:, 1]):\n",
    "    plt.annotate(\n",
    "        label,\n",
    "        xy=(x, y), xytext=(-5, 5),\n",
    "        textcoords='offset points')\n",
    "ax.set_aspect('equal')\n",
    "plt.show()"
   ]
  },
  {
   "cell_type": "code",
   "execution_count": 6,
   "metadata": {
    "collapsed": false
   },
   "outputs": [
    {
     "name": "stdout",
     "output_type": "stream",
     "text": [
      "Pair-wise distances\n",
      "[ 0.63245553  1.08166538  0.94339811  1.83847763  0.41231056  2.05912603\n",
      "  1.3892444   1.80277564  1.55241747  1.56524758  1.2083046   1.04403065\n",
      "  1.44222051  0.78102497  1.5         1.1045361   2.60192237  0.86023253\n",
      "  2.72946881  2.1023796   1.86010752  2.77308492  0.56568542  3.0016662\n",
      "  2.33238076  2.60768096  2.24722051  0.31622777  0.5         1.48660687\n",
      "  2.45967478  1.78885438  2.05912603  0.67082039  1.3892444   1.16619038]\n",
      "\n",
      "Shape of pair-wise distances\n",
      "(36,)\n"
     ]
    }
   ],
   "source": [
    "pairwise_distances = pdist(data)\n",
    "print(\"Pair-wise distances\")\n",
    "print(pairwise_distances)\n",
    "print(\"\\nShape of pair-wise distances\")\n",
    "print(pairwise_distances.shape)"
   ]
  },
  {
   "cell_type": "code",
   "execution_count": 15,
   "metadata": {
    "collapsed": false
   },
   "outputs": [
    {
     "name": "stdout",
     "output_type": "stream",
     "text": [
      "Squareform version of pair-wise distances\n",
      "     1      2    3     4     5     6     7     8     9\n",
      "1 [ 0.    0.63  1.08  0.94  1.84  0.41  2.06  1.39  1.8 ]\n",
      "2 [ 0.63  0.    1.55  1.57  1.21  1.04  1.44  0.78  1.5 ]\n",
      "3 [ 1.08  1.55  0.    1.1   2.6   0.86  2.73  2.1   1.86]\n",
      "4 [ 0.94  1.57  1.1   0.    2.77  0.57  3.    2.33  2.61]\n",
      "5 [ 1.84  1.21  2.6   2.77  0.    2.25  0.32  0.5   1.49]\n",
      "6 [ 0.41  1.04  0.86  0.57  2.25  0.    2.46  1.79  2.06]\n",
      "7 [ 2.06  1.44  2.73  3.    0.32  2.46  0.    0.67  1.39]\n",
      "8 [ 1.39  0.78  2.1   2.33  0.5   1.79  0.67  0.    1.17]\n",
      "9 [ 1.8   1.5   1.86  2.61  1.49  2.06  1.39  1.17  0.  ]\n",
      "\n",
      "Shape of squareform version\n",
      "(9, 9)\n"
     ]
    }
   ],
   "source": [
    "pairwise_distances_squareform = squareform(pairwise_distances).round(2)\n",
    "print(\"Squareform version of pair-wise distances\")\n",
    "print(\"     1      2    3     4     5     6     7     8     9\")\n",
    "for i, row in enumerate(pairwise_distances_squareform):\n",
    "    print(\"{0} {1}\".format(i+1,row))\n",
    "print(\"\\nShape of squareform version\")\n",
    "print(pairwise_distances_squareform.shape)"
   ]
  },
  {
   "cell_type": "code",
   "execution_count": null,
   "metadata": {
    "collapsed": true
   },
   "outputs": [],
   "source": []
  }
 ],
 "metadata": {
  "anaconda-cloud": {},
  "kernelspec": {
   "display_name": "Python 3",
   "language": "python",
   "name": "python3"
  },
  "language_info": {
   "codemirror_mode": {
    "name": "ipython",
    "version": 3
   },
   "file_extension": ".py",
   "mimetype": "text/x-python",
   "name": "python",
   "nbconvert_exporter": "python",
   "pygments_lexer": "ipython3",
   "version": "3.6.0"
  }
 },
 "nbformat": 4,
 "nbformat_minor": 1
}
