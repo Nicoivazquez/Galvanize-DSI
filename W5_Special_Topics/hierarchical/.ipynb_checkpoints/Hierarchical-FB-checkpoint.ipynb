{
 "cells": [
  {
   "cell_type": "markdown",
   "metadata": {},
   "source": [
    "# Hierarchical Clustering Example"
   ]
  },
  {
   "cell_type": "code",
   "execution_count": 1,
   "metadata": {
    "collapsed": false
   },
   "outputs": [],
   "source": [
    "import numpy as np\n",
    "import pandas as pd\n",
    "from scipy.spatial.distance import pdist       # pair-wise distances\n",
    "from scipy.spatial.distance import squareform  # dist. vector to square dist. matrix\n",
    "from scipy.cluster.hierarchy import linkage    # how to define distances between clusters\n",
    "from scipy.cluster.hierarchy import dendrogram # display a dendrogram \n",
    "import matplotlib.pyplot as plt\n",
    "%matplotlib inline"
   ]
  },
  {
   "cell_type": "markdown",
   "metadata": {},
   "source": [
    "## Functions to load and process the Churn Data"
   ]
  },
  {
   "cell_type": "code",
   "execution_count": 2,
   "metadata": {
    "collapsed": false
   },
   "outputs": [],
   "source": [
    "def recode(row_val):\n",
    "    '''change categoricals from (0,1) to (-1.0, 1.0)'''\n",
    "    return -1.0 if row_val == 0 else 1.0\n",
    "        \n",
    "def load_data(filename, standardize_cols):\n",
    "    df = pd.read_csv(filename)\n",
    "\n",
    "    # Binarize categoricals\n",
    "    cols_categorical = [\"Int'l Plan\", \"VMail Plan\", \"Churn?\"]\n",
    "    for col in cols_categorical:\n",
    "        df[col] = (df[col] == 'yes').astype(int)\n",
    "    \n",
    "    # Drop some columns (arbitrary)\n",
    "    del df['State']\n",
    "    del df['Area Code']\n",
    "    del df['Phone']\n",
    "    del df['CustServ Calls']\n",
    "    del df['Intl Mins']\n",
    "    del df['VMail Message']\n",
    "\n",
    "    # Standardize columns\n",
    "    if standardize_cols:\n",
    "        for col in df.columns.tolist():\n",
    "            if col in cols_categorical:\n",
    "                df[col] = df[col].apply(recode)\n",
    "            else:\n",
    "                df[col] = ((df[col] - df[col].mean())/df[col].std()).round(2)\n",
    "            \n",
    "    arr = df.values\n",
    "    return arr, df.columns, df"
   ]
  },
  {
   "cell_type": "markdown",
   "metadata": {},
   "source": [
    "## View data frame depending on standardization"
   ]
  },
  {
   "cell_type": "code",
   "execution_count": 11,
   "metadata": {
    "collapsed": false
   },
   "outputs": [
    {
     "data": {
      "text/html": [
       "<div>\n",
       "<table border=\"1\" class=\"dataframe\">\n",
       "  <thead>\n",
       "    <tr style=\"text-align: right;\">\n",
       "      <th></th>\n",
       "      <th>Account Length</th>\n",
       "      <th>Int'l Plan</th>\n",
       "      <th>VMail Plan</th>\n",
       "      <th>Day Mins</th>\n",
       "      <th>Day Calls</th>\n",
       "      <th>Day Charge</th>\n",
       "      <th>Eve Mins</th>\n",
       "      <th>Eve Calls</th>\n",
       "      <th>Eve Charge</th>\n",
       "      <th>Night Mins</th>\n",
       "      <th>Night Calls</th>\n",
       "      <th>Night Charge</th>\n",
       "      <th>Intl Calls</th>\n",
       "      <th>Intl Charge</th>\n",
       "      <th>Churn?</th>\n",
       "    </tr>\n",
       "  </thead>\n",
       "  <tbody>\n",
       "    <tr>\n",
       "      <th>0</th>\n",
       "      <td>0.68</td>\n",
       "      <td>-1.0</td>\n",
       "      <td>1.0</td>\n",
       "      <td>1.57</td>\n",
       "      <td>0.48</td>\n",
       "      <td>1.57</td>\n",
       "      <td>-0.07</td>\n",
       "      <td>-0.06</td>\n",
       "      <td>-0.07</td>\n",
       "      <td>0.87</td>\n",
       "      <td>-0.47</td>\n",
       "      <td>0.87</td>\n",
       "      <td>-0.60</td>\n",
       "      <td>-0.09</td>\n",
       "      <td>-1.0</td>\n",
       "    </tr>\n",
       "    <tr>\n",
       "      <th>1</th>\n",
       "      <td>0.15</td>\n",
       "      <td>-1.0</td>\n",
       "      <td>1.0</td>\n",
       "      <td>-0.33</td>\n",
       "      <td>1.12</td>\n",
       "      <td>-0.33</td>\n",
       "      <td>-0.11</td>\n",
       "      <td>0.14</td>\n",
       "      <td>-0.11</td>\n",
       "      <td>1.06</td>\n",
       "      <td>0.15</td>\n",
       "      <td>1.06</td>\n",
       "      <td>-0.60</td>\n",
       "      <td>1.24</td>\n",
       "      <td>-1.0</td>\n",
       "    </tr>\n",
       "    <tr>\n",
       "      <th>2</th>\n",
       "      <td>0.90</td>\n",
       "      <td>-1.0</td>\n",
       "      <td>-1.0</td>\n",
       "      <td>1.17</td>\n",
       "      <td>0.68</td>\n",
       "      <td>1.17</td>\n",
       "      <td>-1.57</td>\n",
       "      <td>0.50</td>\n",
       "      <td>-1.57</td>\n",
       "      <td>-0.76</td>\n",
       "      <td>0.20</td>\n",
       "      <td>-0.76</td>\n",
       "      <td>0.21</td>\n",
       "      <td>0.70</td>\n",
       "      <td>-1.0</td>\n",
       "    </tr>\n",
       "    <tr>\n",
       "      <th>3</th>\n",
       "      <td>-0.43</td>\n",
       "      <td>1.0</td>\n",
       "      <td>-1.0</td>\n",
       "      <td>2.20</td>\n",
       "      <td>-1.47</td>\n",
       "      <td>2.20</td>\n",
       "      <td>-2.74</td>\n",
       "      <td>-0.61</td>\n",
       "      <td>-2.74</td>\n",
       "      <td>-0.08</td>\n",
       "      <td>-0.57</td>\n",
       "      <td>-0.08</td>\n",
       "      <td>1.02</td>\n",
       "      <td>-1.31</td>\n",
       "      <td>-1.0</td>\n",
       "    </tr>\n",
       "    <tr>\n",
       "      <th>4</th>\n",
       "      <td>-0.65</td>\n",
       "      <td>1.0</td>\n",
       "      <td>-1.0</td>\n",
       "      <td>-0.24</td>\n",
       "      <td>0.63</td>\n",
       "      <td>-0.24</td>\n",
       "      <td>-1.04</td>\n",
       "      <td>1.10</td>\n",
       "      <td>-1.04</td>\n",
       "      <td>-0.28</td>\n",
       "      <td>1.07</td>\n",
       "      <td>-0.28</td>\n",
       "      <td>-0.60</td>\n",
       "      <td>-0.05</td>\n",
       "      <td>-1.0</td>\n",
       "    </tr>\n",
       "  </tbody>\n",
       "</table>\n",
       "</div>"
      ],
      "text/plain": [
       "   Account Length  Int'l Plan  VMail Plan  Day Mins  Day Calls  Day Charge  \\\n",
       "0            0.68        -1.0         1.0      1.57       0.48        1.57   \n",
       "1            0.15        -1.0         1.0     -0.33       1.12       -0.33   \n",
       "2            0.90        -1.0        -1.0      1.17       0.68        1.17   \n",
       "3           -0.43         1.0        -1.0      2.20      -1.47        2.20   \n",
       "4           -0.65         1.0        -1.0     -0.24       0.63       -0.24   \n",
       "\n",
       "   Eve Mins  Eve Calls  Eve Charge  Night Mins  Night Calls  Night Charge  \\\n",
       "0     -0.07      -0.06       -0.07        0.87        -0.47          0.87   \n",
       "1     -0.11       0.14       -0.11        1.06         0.15          1.06   \n",
       "2     -1.57       0.50       -1.57       -0.76         0.20         -0.76   \n",
       "3     -2.74      -0.61       -2.74       -0.08        -0.57         -0.08   \n",
       "4     -1.04       1.10       -1.04       -0.28         1.07         -0.28   \n",
       "\n",
       "   Intl Calls  Intl Charge  Churn?  \n",
       "0       -0.60        -0.09    -1.0  \n",
       "1       -0.60         1.24    -1.0  \n",
       "2        0.21         0.70    -1.0  \n",
       "3        1.02        -1.31    -1.0  \n",
       "4       -0.60        -0.05    -1.0  "
      ]
     },
     "execution_count": 11,
     "metadata": {},
     "output_type": "execute_result"
    }
   ],
   "source": [
    "# Set standardize columns flag\n",
    "standardize_cols = True # Standardize columns (True) or not (False)\n",
    "\n",
    "# Load data\n",
    "arr, cols, df = load_data('data/churn.csv', standardize_cols)\n",
    "df.head(5)"
   ]
  },
  {
   "cell_type": "markdown",
   "metadata": {},
   "source": [
    "## Plot dendrogram"
   ]
  },
  {
   "cell_type": "code",
   "execution_count": 12,
   "metadata": {
    "collapsed": false
   },
   "outputs": [
    {
     "data": {
      "image/png": "[encoded data removed]",
      "text/plain": [
       "<matplotlib.figure.Figure at 0x7f16d5064588>"
      ]
     },
     "metadata": {},
     "output_type": "display_data"
    }
   ],
   "source": [
    "# Set distance metric\n",
    "# see scipy.spatial.distance.pdist for options\n",
    "distmetric = 'euclidean' # 'euclidean','cityblock','cosine','hamming' are some options\n",
    "\n",
    "# Set linkage method\n",
    "# see scipy.cluster.hierarchy.linkage for options\n",
    "linkmethod = 'complete' # 'single', 'complete', 'average' are some options \n",
    "\n",
    "# Where would you like the clusters set?  In units of the dissimilarity metric\n",
    "thresh = 120\n",
    "\n",
    "# Find distances using pair-wise distances in the array, according to desired metric\n",
    "dist = squareform(pdist(arr.transpose(), metric = distmetric))\n",
    "\n",
    "# Deltermine clusters based on distances and linkage method\n",
    "clust = linkage(dist, method=linkmethod)\n",
    "\n",
    "# Plot dendrogram\n",
    "dendrogram_title = \"Standardized columns: {0},  Distance metric: {1}\".format(standardize_cols, distmetric)\n",
    "fig, ax = plt.subplots(figsize=(24, 12))\n",
    "dendrogram(clust, ax=ax, labels=cols, color_threshold = thresh) #color threshold number sets the color change\n",
    "plt.xticks(fontsize=12)\n",
    "plt.title(dendrogram_title, fontsize = 24);"
   ]
  },
  {
   "cell_type": "code",
   "execution_count": null,
   "metadata": {
    "collapsed": true
   },
   "outputs": [],
   "source": []
  }
 ],
 "metadata": {
  "anaconda-cloud": {},
  "kernelspec": {
   "display_name": "Python 3",
   "language": "python",
   "name": "python3"
  },
  "language_info": {
   "codemirror_mode": {
    "name": "ipython",
    "version": 3
   },
   "file_extension": ".py",
   "mimetype": "text/x-python",
   "name": "python",
   "nbconvert_exporter": "python",
   "pygments_lexer": "ipython3",
   "version": "3.6.0"
  }
 },
 "nbformat": 4,
 "nbformat_minor": 0
}
