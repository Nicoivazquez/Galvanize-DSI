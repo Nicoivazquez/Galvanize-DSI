{
 "cells": [
  {
   "cell_type": "markdown",
   "metadata": {
    "deletable": true,
    "editable": true
   },
   "source": [
    "# Random Forest in Scikit-Learn\n",
    "\n",
    "In this notebook we will use the History of Baseball dataset to demonstrate model interpretation with Random Forest (http://www.seanlahman.com/baseball-archive/statistics/)"
   ]
  },
  {
   "cell_type": "code",
   "execution_count": 1,
   "metadata": {
    "collapsed": false,
    "deletable": true,
    "editable": true
   },
   "outputs": [],
   "source": [
    "# load in necessary packages\n",
    "\n",
    "import pandas as pd\n",
    "import numpy as np\n",
    "import matplotlib.pyplot as plt\n",
    "import matplotlib\n",
    "%matplotlib inline\n",
    "\n",
    "from sklearn.model_selection import train_test_split\n",
    "from sklearn.linear_model import LinearRegression\n",
    "from sklearn.ensemble import RandomForestRegressor\n",
    "from sklearn.metrics import mean_squared_error\n",
    "\n",
    "from preprocessing import teams_preprocess\n",
    "\n",
    "plt.style.use('ggplot')"
   ]
  },
  {
   "cell_type": "code",
   "execution_count": 2,
   "metadata": {
    "collapsed": false,
    "deletable": true,
    "editable": true
   },
   "outputs": [
    {
     "name": "stdout",
     "output_type": "stream",
     "text": [
      "<class 'pandas.core.frame.DataFrame'>\n",
      "Int64Index: 964 entries, 1813 to 2804\n",
      "Data columns (total 54 columns):\n",
      "yearid            964 non-null int64\n",
      "lgid              964 non-null object\n",
      "teamid            964 non-null object\n",
      "franchid          964 non-null object\n",
      "divid             964 non-null object\n",
      "rank              964 non-null int64\n",
      "g                 964 non-null int64\n",
      "ghome             964 non-null float64\n",
      "w                 964 non-null float64\n",
      "l                 964 non-null float64\n",
      "divwin            964 non-null object\n",
      "wcwin             624 non-null object\n",
      "lgwin             964 non-null object\n",
      "wswin             964 non-null object\n",
      "r                 964 non-null float64\n",
      "ab                964 non-null float64\n",
      "h                 964 non-null float64\n",
      "2b                964 non-null float64\n",
      "3b                964 non-null float64\n",
      "hr                964 non-null float64\n",
      "bb                964 non-null float64\n",
      "so                964 non-null float64\n",
      "sb                964 non-null float64\n",
      "cs                964 non-null float64\n",
      "hbp               480 non-null float64\n",
      "sf                480 non-null float64\n",
      "ra                964 non-null float64\n",
      "er                964 non-null int64\n",
      "era               964 non-null float64\n",
      "cg                964 non-null float64\n",
      "sho               964 non-null float64\n",
      "sv                964 non-null float64\n",
      "ipouts            964 non-null float64\n",
      "ha                964 non-null float64\n",
      "hra               964 non-null int64\n",
      "bba               964 non-null float64\n",
      "soa               964 non-null float64\n",
      "e                 964 non-null float64\n",
      "dp                964 non-null float64\n",
      "fp                964 non-null float64\n",
      "name              964 non-null object\n",
      "park              964 non-null object\n",
      "attendance        964 non-null float64\n",
      "bpf               964 non-null int64\n",
      "ppf               964 non-null int64\n",
      "teamidbr          964 non-null object\n",
      "teamidlahman45    964 non-null object\n",
      "teamidretro       964 non-null object\n",
      "1b                964 non-null float64\n",
      "ba                964 non-null float64\n",
      "obp               964 non-null float64\n",
      "sp                964 non-null float64\n",
      "ops               964 non-null float64\n",
      "Wins              964 non-null int64\n",
      "dtypes: float64(33), int64(8), object(13)\n",
      "memory usage: 414.2+ KB\n"
     ]
    }
   ],
   "source": [
    "# load in data and preprocess\n",
    "\n",
    "teams_df = pd.read_csv('data/Teams.csv')\n",
    "\n",
    "teams = teams_preprocess(teams_df)\n",
    "\n",
    "teams.info()"
   ]
  },
  {
   "cell_type": "code",
   "execution_count": 3,
   "metadata": {
    "collapsed": false,
    "deletable": true,
    "editable": true
   },
   "outputs": [
    {
     "name": "stdout",
     "output_type": "stream",
     "text": [
      "Index(['doubles', 'triples', 'hr', 'bb', 'so', 'sb', 'cg', 'ba', 'ha', 'bba',\n",
      "       'soa', 'e', 'era', 'obp', 'sp', 'ops', 'w'],\n",
      "      dtype='object')\n"
     ]
    }
   ],
   "source": [
    "# narrow down columns to consider for Random Forest model\n",
    "cols_for_regression = ['doubles', 'triples', 'hr', 'bb','so','sb', 'cg', 'ba',\n",
    "                        'ha', 'bba', 'soa', 'e', 'era', 'obp','sp','ops', 'w']\n",
    "\n",
    "# reformat some columns\n",
    "teams = teams.rename(index=str, columns={'1b':'singles', '2b':'doubles', '3b':'triples'})\n",
    "\n",
    "rteams = teams[cols_for_regression]\n",
    "\n",
    "print(rteams.columns)"
   ]
  },
  {
   "cell_type": "code",
   "execution_count": 4,
   "metadata": {
    "collapsed": false,
    "deletable": true,
    "editable": true
   },
   "outputs": [],
   "source": [
    "y = rteams.pop('w').values\n",
    "\n",
    "cols = rteams.columns.tolist()\n",
    "X = rteams.values\n",
    "\n",
    "X_train, X_test, y_train, y_test = train_test_split(X, y)"
   ]
  },
  {
   "cell_type": "markdown",
   "metadata": {
    "deletable": true,
    "editable": true
   },
   "source": [
    "## Feature Importances"
   ]
  },
  {
   "cell_type": "code",
   "execution_count": 5,
   "metadata": {
    "collapsed": false,
    "deletable": true,
    "editable": true
   },
   "outputs": [
    {
     "name": "stdout",
     "output_type": "stream",
     "text": [
      "('doubles', 0.010062026800895156)\n",
      "('triples', 0.010054862753190104)\n",
      "('hr', 0.014203072824826453)\n",
      "('bb', 0.013678190297279492)\n",
      "('so', 0.008376186803336386)\n",
      "('sb', 0.010448741074523543)\n",
      "('cg', 0.0083826959360138176)\n",
      "('ba', 0.012338963376321893)\n",
      "('ha', 0.021289501429212883)\n",
      "('bba', 0.013910446150675352)\n",
      "('soa', 0.01055481948492973)\n",
      "('e', 0.015111752982840159)\n",
      "('era', 0.39351856542864583)\n",
      "('obp', 0.098342561519804791)\n",
      "('sp', 0.039596200416978033)\n",
      "('ops', 0.32013141272052648)\n"
     ]
    }
   ],
   "source": [
    "rf = RandomForestRegressor(n_estimators=50)\n",
    "rf.fit(X_train, y_train)\n",
    "\n",
    "scores = rf.feature_importances_\n",
    "\n",
    "fi = zip(cols, scores)\n",
    "\n",
    "for feat in fi:\n",
    "    print(feat)"
   ]
  },
  {
   "cell_type": "code",
   "execution_count": 6,
   "metadata": {
    "collapsed": false,
    "deletable": true,
    "editable": true
   },
   "outputs": [
    {
     "data": {
      "image/png": "[encoded data removed]",
      "text/plain": [
       "<matplotlib.figure.Figure at 0x10b1c0278>"
      ]
     },
     "metadata": {},
     "output_type": "display_data"
    }
   ],
   "source": [
    "plt.bar(range(len(cols)), scores, );\n",
    "plt.xticks(range(len(cols)), cols, rotation='vertical');\n",
    "plt.title('Feature Importances');"
   ]
  },
  {
   "cell_type": "markdown",
   "metadata": {
    "deletable": true,
    "editable": true
   },
   "source": [
    "## Leave One Out "
   ]
  },
  {
   "cell_type": "code",
   "execution_count": 7,
   "metadata": {
    "collapsed": true,
    "deletable": true,
    "editable": true
   },
   "outputs": [],
   "source": [
    "def leave_one_out(df):\n",
    "    y = df.pop('w')\n",
    "    X = df\n",
    "    base_mod = RandomForestRegressor(n_estimators=50, oob_score=True).fit(X, y)\n",
    "    base_score = base_mod.oob_score_\n",
    "    cols = df.columns.tolist()\n",
    "    diff_from_base = []\n",
    "    for col in cols:\n",
    "        X = df\n",
    "        X = X.loc[:,[c for c in cols if c != col]]\n",
    "        rf = RandomForestRegressor(n_estimators=50, oob_score=True).fit(X, y)\n",
    "        diff_from_base.append(abs(base_score - rf.oob_score_))\n",
    "    return cols, diff_from_base\n",
    "\n"
   ]
  },
  {
   "cell_type": "code",
   "execution_count": 8,
   "metadata": {
    "collapsed": true,
    "deletable": true,
    "editable": true
   },
   "outputs": [],
   "source": [
    "columns, loo_score = leave_one_out(teams[cols_for_regression])"
   ]
  },
  {
   "cell_type": "code",
   "execution_count": 9,
   "metadata": {
    "collapsed": false,
    "deletable": true,
    "editable": true
   },
   "outputs": [
    {
     "data": {
      "image/png": "[encoded data removed]",
      "text/plain": [
       "<matplotlib.figure.Figure at 0x116351a58>"
      ]
     },
     "metadata": {},
     "output_type": "display_data"
    }
   ],
   "source": [
    "plt.bar(range(len(columns)), loo_score);\n",
    "plt.xticks(range(len(columns)), columns, rotation='vertical');\n",
    "plt.title('Leave One Out');"
   ]
  },
  {
   "cell_type": "markdown",
   "metadata": {
    "deletable": true,
    "editable": true
   },
   "source": [
    "***Why is ERA so much more important here?***  One explanation is that most of the metrics we are looking at are offensive.  Therefore, there is quite a bit of information overlap on the offensive side of things.  Taking an offensive metric out will not have nearly as large of an impact as taking out ERA, since that information isn't captured in other metrics..."
   ]
  },
  {
   "cell_type": "markdown",
   "metadata": {
    "deletable": true,
    "editable": true
   },
   "source": [
    "## Identify \"Multicolinearity\"\n",
    "Here we aren't concerned about \"colinearity\" affecting our model, just the interpretation of it.  If two features contain very similar information, their feature importances will be negatively impacted.  Below, we will iteratively drop out columns and see how feature importances change.\n",
    "\n",
    "This allows us to get a better understanding for the importance each of our features adds to the model.  ***It is also possible to drop out more than one feature at a time.  In fact, we may need to if 3 or more features are highly corrlated.***  \n",
    "\n"
   ]
  },
  {
   "cell_type": "code",
   "execution_count": 10,
   "metadata": {
    "collapsed": true,
    "deletable": true,
    "editable": true
   },
   "outputs": [],
   "source": [
    "def leave_one_out_fi(df):\n",
    "    y = df.pop('w')\n",
    "    X = df\n",
    "    X_train, X_test, y_train, y_test = train_test_split(X, y)\n",
    "    cols = df.columns.tolist()\n",
    "    for col in cols:\n",
    "        cols_to_plot = [c for c in cols if c != col]\n",
    "        feats = X_train.loc[:, cols_to_plot]\n",
    "        rf = RandomForestRegressor(n_estimators=50).fit(feats, y_train)\n",
    "        scores = rf.feature_importances_\n",
    "        plt.bar(range(len(cols) - 1), scores)\n",
    "        plt.xticks(range(len(cols) - 1), cols_to_plot, rotation='vertical')\n",
    "        plt.subplots_adjust(bottom=0.25)\n",
    "        plt.savefig('images/left_out_{}.png'.format(col))\n",
    "        plt.close('all')\n",
    "        "
   ]
  },
  {
   "cell_type": "code",
   "execution_count": 11,
   "metadata": {
    "collapsed": false,
    "deletable": true,
    "editable": true
   },
   "outputs": [],
   "source": [
    "leave_one_out_fi(teams[cols_for_regression])"
   ]
  },
  {
   "cell_type": "markdown",
   "metadata": {
    "collapsed": true,
    "deletable": true,
    "editable": true
   },
   "source": [
    "# GridSearchCV 101\n",
    "\n",
    "GridSearchCV allows us get cross validated scores on different combinations of metrics."
   ]
  },
  {
   "cell_type": "code",
   "execution_count": 22,
   "metadata": {
    "collapsed": false
   },
   "outputs": [
    {
     "name": "stdout",
     "output_type": "stream",
     "text": [
      "Best Hyperparmeters RandomForestRegressor(bootstrap=True, criterion='mse', max_depth=None,\n",
      "           max_features='auto', max_leaf_nodes=15,\n",
      "           min_impurity_split=1e-07, min_samples_leaf=1,\n",
      "           min_samples_split=2, min_weight_fraction_leaf=0.0,\n",
      "           n_estimators=100, n_jobs=1, oob_score=False, random_state=None,\n",
      "           verbose=0, warm_start=False) \n",
      " MSE: 0.0010775738452\n"
     ]
    }
   ],
   "source": [
    "from sklearn.model_selection import GridSearchCV\n",
    "\n",
    "rf = RandomForestRegressor()\n",
    "\n",
    "params = {'n_estimators': [10, 50, 100], 'max_leaf_nodes': [5, 10, 15]}  # can pass any feature in here...\n",
    "\n",
    "gs = GridSearchCV(rf, params, scoring='neg_mean_squared_error')\n",
    "\n",
    "gs.fit(X_train, y_train)\n",
    "\n",
    "print('Best Hyperparmeters', gs.best_estimator_, '\\n', 'MSE:', -1* gs.best_score_)"
   ]
  },
  {
   "cell_type": "code",
   "execution_count": null,
   "metadata": {
    "collapsed": true
   },
   "outputs": [],
   "source": []
  }
 ],
 "metadata": {
  "kernelspec": {
   "display_name": "Python 3",
   "language": "python",
   "name": "python3"
  },
  "language_info": {
   "codemirror_mode": {
    "name": "ipython",
    "version": 3
   },
   "file_extension": ".py",
   "mimetype": "text/x-python",
   "name": "python",
   "nbconvert_exporter": "python",
   "pygments_lexer": "ipython3",
   "version": "3.6.0"
  }
 },
 "nbformat": 4,
 "nbformat_minor": 2
}
