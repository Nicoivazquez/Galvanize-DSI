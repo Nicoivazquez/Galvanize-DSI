{
 "cells": [
  {
   "cell_type": "code",
   "execution_count": null,
   "metadata": {
    "collapsed": false
   },
   "outputs": [],
   "source": [
    "import numpy as np\n",
    "import numpy.random\n",
    "import scipy as sp\n",
    "import pandas as pd\n",
    "import matplotlib as mpl\n",
    "import matplotlib.pyplot as plt\n",
    "from matplotlib.colors import ListedColormap\n",
    "from sklearn import neighbors, datasets\n",
    "from sklearn.preprocessing import StandardScaler\n",
    "from sklearn.pipeline import make_pipeline\n",
    "%matplotlib inline"
   ]
  },
  {
   "cell_type": "code",
   "execution_count": null,
   "metadata": {
    "collapsed": true
   },
   "outputs": [],
   "source": [
    "mpl.rcParams.update({'font.size': 18}) # because I'm tired of looking at small fonts and you should be too"
   ]
  },
  {
   "cell_type": "code",
   "execution_count": null,
   "metadata": {
    "collapsed": false
   },
   "outputs": [],
   "source": [
    "numpy.random.seed(12345)\n",
    "\n",
    "# make the data\n",
    "# horse\n",
    "numpts_H = 50\n",
    "horse_weight = numpy.random.rand(numpts_H, 1) * 1500.0 + 400.0     # lbs\n",
    "horse_height = horse_weight/370 + numpy.random.normal(0, 0.5, horse_weight.shape) + 2  # ft\n",
    "\n",
    "# dog\n",
    "numpts_D = 30\n",
    "dog_weight = numpy.random.rand(numpts_D, 1) * 800.0 + 10.0      # lbs\n",
    "dog_height = dog_weight/300 + numpy.random.normal(0, 0.5, dog_weight.shape) + 1  # ft\n",
    "\n",
    "# make features array\n",
    "X_horse = np.hstack((horse_weight, horse_height))\n",
    "X_dog = np.hstack((dog_weight, dog_height))\n",
    "X = np.vstack((X_horse, X_dog))\n",
    "\n",
    "# target -  horses are 0, dogs are 1\n",
    "y = np.vstack((np.zeros(horse_weight.shape),np.ones(dog_weight.shape)))\n",
    "\n",
    "# print out all the shapes to make sure it's all consistent\n",
    "print(\"First 3 rows of X_horse\")\n",
    "print(X_horse[:3,:])\n",
    "print(\"X_horse shape: {0}\".format(X_horse.shape))\n",
    "\n",
    "print(\"\\nFirst 3 rows of X_dog\")\n",
    "print(X_dog[:3,:])\n",
    "print(\"X_dog shape: {0}\".format(X_dog.shape))\n",
    "\n",
    "print(\"\\nX shape: {0}\".format(X.shape))\n",
    "print(\"y shape: {0}\\n\".format(y.shape))"
   ]
  },
  {
   "cell_type": "code",
   "execution_count": null,
   "metadata": {
    "collapsed": false
   },
   "outputs": [],
   "source": [
    "# set k\n",
    "k = 1 # how many neighbors should the new datapoints classification be based on?\n",
    "\n",
    "# set value of new point of interest\n",
    "weight_p = 450.0 # lbs\n",
    "height_p = 2.65  # ft\n",
    "\n",
    "X_p = np.array([weight_p, height_p]).reshape(1, 2)\n",
    "\n",
    "# fit\n",
    "model = neighbors.KNeighborsClassifier(n_neighbors=k, weights='uniform')\n",
    "knn = make_pipeline(StandardScaler(), model)\n",
    "knn.fit(X, y.ravel()) # ravel because requires 1D array\n",
    "\n",
    "y_p = knn.predict(X_p).reshape(1,1)\n",
    "\n",
    "# color data points by class consistently\n",
    "def color_data_by_class(val):\n",
    "    return 'r' if val == 0 else 'b'\n",
    "c_p = np.apply_along_axis(color_data_by_class, 1, y_p)\n",
    "\n",
    "# plot the new data point and its classification\n",
    "plt.figure(figsize = (12,8))\n",
    "plt.scatter(X_horse[:, 0], X_horse[:, 1], c='r', label = 'horse')\n",
    "plt.scatter(X_dog[:, 0], X_dog[:, 1], c='b', label = 'dog')\n",
    "plt.scatter(X_p[:, 0], X_p[:, 1], marker = 'x', s = 150, c=c_p)\n",
    "plt.title(\"Horse vs Dog\")\n",
    "plt.xlabel(\"Weight (lbs)\")\n",
    "plt.ylabel(\"Height (ft)\")\n",
    "plt.legend()\n",
    "plt.grid();"
   ]
  },
  {
   "cell_type": "code",
   "execution_count": null,
   "metadata": {
    "collapsed": false
   },
   "outputs": [],
   "source": [
    "# plot decision boundaries with different complexities\n",
    "# set k\n",
    "k = 1\n",
    "\n",
    "hx = 0.1  # step size in the mesh\n",
    "hy = 0.1\n",
    "cmap_light = ListedColormap(['#FFAAAA', '#AAFFAA', '#AAAAFF'])\n",
    "cmap_bold = ListedColormap(['#FF0000', '#00FF00', '#0000FF'])\n",
    "\n",
    "# fit\n",
    "clf = neighbors.KNeighborsClassifier(n_neighbors=k, weights='uniform')\n",
    "clf = make_pipeline(StandardScaler(), clf) # comment this out\n",
    "clf.fit(X, y.ravel()) # ravel because requires 1D array\n",
    "\n",
    "# make mesh predictions\n",
    "x_min, x_max = X[:, 0].min() - 1, X[:, 0].max() + 1\n",
    "y_min, y_max = X[:, 1].min() - 1, X[:, 1].max() + 1\n",
    "xx, yy = np.meshgrid(np.arange(x_min, x_max, hx),\n",
    "                     np.arange(y_min, y_max, hy))\n",
    "Z = clf.predict(np.c_[xx.ravel(), yy.ravel()])\n",
    "Z = Z.reshape(xx.shape)\n",
    "\n",
    "plt.figure(figsize = (12,8))\n",
    "plt.pcolormesh(xx, yy, Z, cmap=cmap_light)\n",
    "plt.scatter(X[:, 0], X[:, 1], c=y, cmap=cmap_bold)\n",
    "plt.xlim(xx.min(), xx.max())\n",
    "plt.ylim(yy.min(), yy.max())\n",
    "plt.title(\"Horse vs Dog\")\n",
    "plt.xlabel(\"Weight (lbs)\")\n",
    "plt.ylabel(\"Height (ft)\");"
   ]
  },
  {
   "cell_type": "code",
   "execution_count": null,
   "metadata": {
    "collapsed": false
   },
   "outputs": [],
   "source": [
    "# plot decision boundaries with different complexities\n",
    "# set k\n",
    "k = 3\n",
    "\n",
    "hx = 0.1  # step size in the mesh\n",
    "hy = 0.1\n",
    "cmap_light = ListedColormap(['#FFAAAA', '#AAFFAA', '#AAAAFF'])\n",
    "cmap_bold = ListedColormap(['#FF0000', '#00FF00', '#0000FF'])\n",
    "\n",
    "# fit\n",
    "clf = neighbors.KNeighborsClassifier(n_neighbors=k, weights='uniform')\n",
    "clf = make_pipeline(StandardScaler(), clf)\n",
    "clf.fit(X, y.ravel()) # ravel because requires 1D array\n",
    "\n",
    "# make mesh predictions\n",
    "hx, hy = 0.5, 0.05 # step size\n",
    "x_min, x_max = X[:, 0].min() - 1, X[:, 0].max() + 1\n",
    "y_min, y_max = X[:, 1].min() - 1, X[:, 1].max() + 1\n",
    "xx, yy = np.meshgrid(np.arange(x_min, x_max, hx),\n",
    "                     np.arange(y_min, y_max, hy))\n",
    "Z = clf.predict(np.c_[xx.ravel(), yy.ravel()])\n",
    "Z = Z.reshape(xx.shape)\n",
    "\n",
    "plt.figure(figsize = (12,8))\n",
    "plt.pcolormesh(xx, yy, Z, cmap=cmap_light)\n",
    "plt.scatter(X[:, 0], X[:, 1], c=y, cmap=cmap_bold)\n",
    "plt.xlim(xx.min(), xx.max())\n",
    "plt.ylim(yy.min(), yy.max())\n",
    "plt.title(\"Horse vs Dog\")\n",
    "plt.xlabel(\"Weight (lbs)\")\n",
    "plt.ylabel(\"Height (ft)\");"
   ]
  },
  {
   "cell_type": "code",
   "execution_count": null,
   "metadata": {
    "collapsed": false
   },
   "outputs": [],
   "source": [
    "# plot decision boundaries with different complexities\n",
    "# set k\n",
    "k = 5\n",
    "\n",
    "hx = 0.1  # step size in the mesh\n",
    "hy = 0.1\n",
    "cmap_light = ListedColormap(['#FFAAAA', '#AAFFAA', '#AAAAFF'])\n",
    "cmap_bold = ListedColormap(['#FF0000', '#00FF00', '#0000FF'])\n",
    "\n",
    "# fit\n",
    "clf = neighbors.KNeighborsClassifier(n_neighbors=k, weights='uniform')\n",
    "clf = make_pipeline(StandardScaler(), clf)\n",
    "clf.fit(X, y.ravel()) # ravel because requires 1D array\n",
    "\n",
    "# make mesh predictions\n",
    "hx, hy = 0.5, 0.05 # step size\n",
    "x_min, x_max = X[:, 0].min() - 1, X[:, 0].max() + 1\n",
    "y_min, y_max = X[:, 1].min() - 1, X[:, 1].max() + 1\n",
    "xx, yy = np.meshgrid(np.arange(x_min, x_max, hx),\n",
    "                     np.arange(y_min, y_max, hy))\n",
    "Z = clf.predict(np.c_[xx.ravel(), yy.ravel()])\n",
    "Z = Z.reshape(xx.shape)\n",
    "\n",
    "plt.figure(figsize = (12,8))\n",
    "plt.pcolormesh(xx, yy, Z, cmap=cmap_light)\n",
    "plt.scatter(X[:, 0], X[:, 1], c=y, cmap=cmap_bold)\n",
    "plt.xlim(xx.min(), xx.max())\n",
    "plt.ylim(yy.min(), yy.max())\n",
    "plt.title(\"Horse vs Dog\")\n",
    "plt.xlabel(\"Weight (lbs)\")\n",
    "plt.ylabel(\"Height (ft)\");"
   ]
  },
  {
   "cell_type": "code",
   "execution_count": null,
   "metadata": {
    "collapsed": false
   },
   "outputs": [],
   "source": [
    "# plot decision boundaries with different complexities\n",
    "# set k\n",
    "k = 15\n",
    "\n",
    "hx = 0.1  # step size in the mesh\n",
    "hy = 0.1\n",
    "cmap_light = ListedColormap(['#FFAAAA', '#AAFFAA', '#AAAAFF'])\n",
    "cmap_bold = ListedColormap(['#FF0000', '#00FF00', '#0000FF'])\n",
    "\n",
    "# fit\n",
    "clf = neighbors.KNeighborsClassifier(n_neighbors=k, weights='uniform')\n",
    "clf = make_pipeline(StandardScaler(), clf)\n",
    "clf.fit(X, y.ravel()) # ravel because requires 1D array\n",
    "\n",
    "# make mesh predictions\n",
    "hx, hy = 0.5, 0.05 # step size\n",
    "x_min, x_max = X[:, 0].min() - 1, X[:, 0].max() + 1\n",
    "y_min, y_max = X[:, 1].min() - 1, X[:, 1].max() + 1\n",
    "xx, yy = np.meshgrid(np.arange(x_min, x_max, hx),\n",
    "                     np.arange(y_min, y_max, hy))\n",
    "Z = clf.predict(np.c_[xx.ravel(), yy.ravel()])\n",
    "Z = Z.reshape(xx.shape)\n",
    "\n",
    "plt.figure(figsize = (12,8))\n",
    "plt.pcolormesh(xx, yy, Z, cmap=cmap_light)\n",
    "plt.scatter(X[:, 0], X[:, 1], c=y, cmap=cmap_bold)\n",
    "plt.xlim(xx.min(), xx.max())\n",
    "plt.ylim(yy.min(), yy.max())\n",
    "plt.title(\"Horse vs Dog\")\n",
    "plt.xlabel(\"Weight (lbs)\")\n",
    "plt.ylabel(\"Height (ft)\");"
   ]
  },
  {
   "cell_type": "code",
   "execution_count": null,
   "metadata": {
    "collapsed": true
   },
   "outputs": [],
   "source": []
  }
 ],
 "metadata": {
  "kernelspec": {
   "display_name": "Python 3",
   "language": "python",
   "name": "python3"
  },
  "language_info": {
   "codemirror_mode": {
    "name": "ipython",
    "version": 3
   },
   "file_extension": ".py",
   "mimetype": "text/x-python",
   "name": "python",
   "nbconvert_exporter": "python",
   "pygments_lexer": "ipython3",
   "version": "3.6.0"
  }
 },
 "nbformat": 4,
 "nbformat_minor": 2
}
