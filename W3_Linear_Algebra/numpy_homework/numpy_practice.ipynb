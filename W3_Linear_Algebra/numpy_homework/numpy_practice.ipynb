{
 "cells": [
  {
   "cell_type": "markdown",
   "metadata": {},
   "source": [
    "# Numpy practice\n",
    "\n",
    "After going through the [Intro_to_numpy notebook](intro_to_numpy.ipynb) complete the exercises below.\n",
    "\n",
    "To help you out, here's a bunch of numpy methods often used in the DSI.\n",
    "\n",
    "```python\n",
    "import numpy as np\n",
    "\n",
    "lst = [4, 1, 2, 6, 5, 3]\n",
    "\n",
    "mtrx_A = [ [3, 2, 4],\n",
    "           [1, 9, 0],\n",
    "           [2, 8, 5] ]\n",
    "\n",
    "# make a numpy array\n",
    "a1 = np.array(lst) #convert a list to a numpy array\n",
    "a2 = np.arange(0,12,2) #usually used for integers\n",
    "a3 = np.linspace(1, 5, num=10, endpoint=True) # usually used for floats\n",
    "a4 = np.array(mtrx_A)\n",
    "\n",
    "# see the number of rows and columns in an array\n",
    "shape_a1 = a1.shape\n",
    "rows_a1 = a1.shape[0]\n",
    "cols_a1 = a1.shape[1] # will return an error\n",
    "\n",
    "# change the shape of an array\n",
    "a1 = a1[:,np.newaxis] # makes a1 a column vector\n",
    "cols_a1 = a1.shape[1] # now it does not throw an error, a1 has 1 column\n",
    "a1 = a1.reshape((-1,1)) # so does this, the -1 is telling numpy to figure out the number of rows\n",
    "a2.resize((3,2)) # does it inplace (note don't need a2 = a2.resize etc., asking for 2 columns\n",
    "\n",
    "# math functions \n",
    "m1 = a1.mean() # average of entire array\n",
    "m1_anotherway = np.mean(a1) # same\n",
    "m4 = a4.mean() # average of entire array\n",
    "m4_col_mn = a4.mean(axis = 0) # the average of each column\n",
    "m4_row_mn = a4.mean(axis = 1) # the average of each row\n",
    "m4_row_sum = a4.sum(axis = 1) # the sum of each row\n",
    "\n",
    "# sorting\n",
    "a1 = np.array(lst) #re-make array\n",
    "a1.sort() #will sort along the longest axis, note that this is done inplace (don't need a1 = a1.sort())\n",
    "a1 = a1[::-1] # reverse array order (high to low)\n",
    "a4.sort(axis = 0) # columns sorted in ascending order, inplace\n",
    "a4.sort(axis = 1) # rows sorted in ascending order, inplace\n",
    "\n",
    "# working with array indices\n",
    "cols = np.array(['A','B','C']) # column labels\n",
    "rows = np.array(['Zeroth','First','Second','Third']) # row labels\n",
    "mtrx_B = [ [3, -1, 0],\n",
    "           [1, 10, 2],\n",
    "           [4, -3, 9],\n",
    "           [9, 11, 1] ]\n",
    "indices_col_mins = np.argmin(mtrx_B, axis=0) # index of minimum value in each column\n",
    "indices_row_mins = np.argmin(mtrx_B, axis=1) # index of minimum value in each row\n",
    "(ind_row_min, ind_col_min) = np.where(mtrx_B == np.min(mtrx_B)) # find the row, column index of min. value\n",
    "# now use indices to return the row and column labels of the minimum\n",
    "print(\"The minimum occurs in the {0} row, {1} column.\".format(rows[i_row_min][0],cols[i_col_min][0]))\n",
    "\n",
    "```\n"
   ]
  },
  {
   "cell_type": "markdown",
   "metadata": {
    "collapsed": false
   },
   "source": [
    "### Question 1\n",
    "\n",
    "Make the following matrices in numpy:\n",
    "\n",
    "```python\n",
    "arr1 = -0.2, 1.2, 3.4, 0.2\n",
    "\n",
    "arr2 = 5  2  -3  2  \n",
    "       0  3  12  3  \n",
    "       2  9  10  6\n",
    "```"
   ]
  },
  {
   "cell_type": "code",
   "execution_count": 1,
   "metadata": {
    "collapsed": false
   },
   "outputs": [],
   "source": [
    "import numpy as np"
   ]
  },
  {
   "cell_type": "code",
   "execution_count": 22,
   "metadata": {
    "collapsed": false
   },
   "outputs": [
    {
     "data": {
      "text/plain": [
       "array([-0.2,  1.2,  3.4,  0.2])"
      ]
     },
     "execution_count": 22,
     "metadata": {},
     "output_type": "execute_result"
    }
   ],
   "source": [
    "arr1 = np.array((-.2, 1.2, 3.4, .2), float)\n",
    "arr1"
   ]
  },
  {
   "cell_type": "code",
   "execution_count": 34,
   "metadata": {
    "collapsed": false
   },
   "outputs": [
    {
     "data": {
      "text/plain": [
       "array([[ 5,  2, -3,  2],\n",
       "       [ 0,  3, 12,  3],\n",
       "       [ 2,  9, 10,  6]])"
      ]
     },
     "execution_count": 34,
     "metadata": {},
     "output_type": "execute_result"
    }
   ],
   "source": [
    "arr2 = np.array([5,2,-3,2,0,3,12,3,2,9,10,6]).reshape(3,4)\n",
    "arr2"
   ]
  },
  {
   "cell_type": "markdown",
   "metadata": {
    "collapsed": false
   },
   "source": [
    "### Question 2\n",
    "\n",
    "a) Change each array into 1 row with as many columns as necessary.  \n",
    "b) Change each array into 1 column with as many rows as necessary.\n",
    "\n",
    "In each case save the reshaped array into a different variable name."
   ]
  },
  {
   "cell_type": "code",
   "execution_count": 10,
   "metadata": {
    "collapsed": false
   },
   "outputs": [
    {
     "data": {
      "text/plain": [
       "array([[ 5,  2, -3,  2,  0,  3, 12,  3,  2,  9, 10,  6]])"
      ]
     },
     "execution_count": 10,
     "metadata": {},
     "output_type": "execute_result"
    }
   ],
   "source": [
    "#a\n",
    "arr1a = arr1\n",
    "arr2a = arr2.reshape((1,-1))\n",
    "arr2a"
   ]
  },
  {
   "cell_type": "code",
   "execution_count": 11,
   "metadata": {
    "collapsed": false
   },
   "outputs": [
    {
     "data": {
      "text/plain": [
       "array([[-0.2],\n",
       "       [ 1.2],\n",
       "       [ 3.4],\n",
       "       [ 0.2]])"
      ]
     },
     "execution_count": 11,
     "metadata": {},
     "output_type": "execute_result"
    }
   ],
   "source": [
    "#b\n",
    "arr1b = arr1.reshape((-1,1))\n",
    "arr1b"
   ]
  },
  {
   "cell_type": "code",
   "execution_count": 13,
   "metadata": {
    "collapsed": false
   },
   "outputs": [
    {
     "data": {
      "text/plain": [
       "array([[ 5],\n",
       "       [ 2],\n",
       "       [-3],\n",
       "       [ 2],\n",
       "       [ 0],\n",
       "       [ 3],\n",
       "       [12],\n",
       "       [ 3],\n",
       "       [ 2],\n",
       "       [ 9],\n",
       "       [10],\n",
       "       [ 6]])"
      ]
     },
     "execution_count": 13,
     "metadata": {},
     "output_type": "execute_result"
    }
   ],
   "source": [
    "arr2b = arr2.reshape((-1,1))\n",
    "arr2b"
   ]
  },
  {
   "cell_type": "markdown",
   "metadata": {},
   "source": [
    "### Question 3\n",
    "\n",
    "Find the array min, max, the row min, max, and the column min, max for `arr1` and `arr2`."
   ]
  },
  {
   "cell_type": "code",
   "execution_count": 23,
   "metadata": {
    "collapsed": false
   },
   "outputs": [
    {
     "data": {
      "text/plain": [
       "-0.20000000000000001"
      ]
     },
     "execution_count": 23,
     "metadata": {},
     "output_type": "execute_result"
    }
   ],
   "source": [
    "arr1.min() #array min"
   ]
  },
  {
   "cell_type": "code",
   "execution_count": 15,
   "metadata": {
    "collapsed": false
   },
   "outputs": [
    {
     "data": {
      "text/plain": [
       "-3"
      ]
     },
     "execution_count": 15,
     "metadata": {},
     "output_type": "execute_result"
    }
   ],
   "source": [
    "arr2.min() #array min"
   ]
  },
  {
   "cell_type": "code",
   "execution_count": 19,
   "metadata": {
    "collapsed": false
   },
   "outputs": [
    {
     "data": {
      "text/plain": [
       "(array([-3,  0,  2]), array([ 5, 12, 10]))"
      ]
     },
     "execution_count": 19,
     "metadata": {},
     "output_type": "execute_result"
    }
   ],
   "source": [
    "#row mins & maxs\n",
    "arr2.min(axis=1), arr2.max(axis=1)"
   ]
  },
  {
   "cell_type": "code",
   "execution_count": 20,
   "metadata": {
    "collapsed": false
   },
   "outputs": [
    {
     "data": {
      "text/plain": [
       "(-0.20000000000000001,\n",
       " 3.3999999999999999,\n",
       " array([ 0,  2, -3,  2]),\n",
       " array([ 5,  9, 12,  6]))"
      ]
     },
     "execution_count": 20,
     "metadata": {},
     "output_type": "execute_result"
    }
   ],
   "source": [
    "#column mins & maxs\n",
    "arr1.min(axis=0), arr1.max(axis=0), arr2.min(axis=0), arr2.max(axis=0)"
   ]
  },
  {
   "cell_type": "markdown",
   "metadata": {
    "collapsed": true
   },
   "source": [
    " "
   ]
  },
  {
   "cell_type": "markdown",
   "metadata": {
    "collapsed": false
   },
   "source": [
    "### Question 4\n",
    "\n",
    "Return `arr1` and `arr2` sorted low to high, and high to low, row-wise and column-wise.  "
   ]
  },
  {
   "cell_type": "code",
   "execution_count": 26,
   "metadata": {
    "collapsed": false
   },
   "outputs": [
    {
     "data": {
      "text/plain": [
       "array([-0.2,  0.2,  1.2,  3.4])"
      ]
     },
     "execution_count": 26,
     "metadata": {},
     "output_type": "execute_result"
    }
   ],
   "source": [
    "#arr1 column-wise:\n",
    "arr1.sort() #sorts in-place\n",
    "arr1"
   ]
  },
  {
   "cell_type": "code",
   "execution_count": 28,
   "metadata": {
    "collapsed": false
   },
   "outputs": [
    {
     "data": {
      "text/plain": [
       "array([ 3.4,  1.2,  0.2, -0.2])"
      ]
     },
     "execution_count": 28,
     "metadata": {},
     "output_type": "execute_result"
    }
   ],
   "source": [
    "#arr1 descending.  Note this takes arr1 already sorted ascending and reverses it.\n",
    "arr1[::-1]"
   ]
  },
  {
   "cell_type": "code",
   "execution_count": 35,
   "metadata": {
    "collapsed": false
   },
   "outputs": [
    {
     "data": {
      "text/plain": [
       "array([[-3,  2,  2,  5],\n",
       "       [ 0,  3,  3, 12],\n",
       "       [ 2,  6,  9, 10]])"
      ]
     },
     "execution_count": 35,
     "metadata": {},
     "output_type": "execute_result"
    }
   ],
   "source": [
    "#arr2 row-wise ascending\n",
    "np.sort(arr2, axis=1)"
   ]
  },
  {
   "cell_type": "code",
   "execution_count": 32,
   "metadata": {
    "collapsed": false
   },
   "outputs": [
    {
     "data": {
      "text/plain": [
       "array([[ 5,  2,  2, -3],\n",
       "       [12,  3,  3,  0],\n",
       "       [10,  9,  6,  2]])"
      ]
     },
     "execution_count": 32,
     "metadata": {},
     "output_type": "execute_result"
    }
   ],
   "source": [
    "#arr2 row-wise descending:\n",
    "-np.sort(-arr2, axis=1)"
   ]
  },
  {
   "cell_type": "code",
   "execution_count": 38,
   "metadata": {
    "collapsed": false
   },
   "outputs": [
    {
     "data": {
      "text/plain": [
       "array([[ 0,  2, -3,  2],\n",
       "       [ 2,  3, 10,  3],\n",
       "       [ 5,  9, 12,  6]])"
      ]
     },
     "execution_count": 38,
     "metadata": {},
     "output_type": "execute_result"
    }
   ],
   "source": [
    "#arr2 column-wise ascending:\n",
    "np.sort(arr2, axis=0)"
   ]
  },
  {
   "cell_type": "code",
   "execution_count": 39,
   "metadata": {
    "collapsed": false
   },
   "outputs": [
    {
     "data": {
      "text/plain": [
       "array([[ 5,  9, 12,  6],\n",
       "       [ 2,  3, 10,  3],\n",
       "       [ 0,  2, -3,  2]])"
      ]
     },
     "execution_count": 39,
     "metadata": {},
     "output_type": "execute_result"
    }
   ],
   "source": [
    "#arr2 column-wise descending:\n",
    "-np.sort(-arr2, axis=0)"
   ]
  },
  {
   "cell_type": "markdown",
   "metadata": {},
   "source": [
    "### Question 5\n",
    "\n",
    "Find the row and column of the maximum value `arr1` and `arr2`.  Print them out nicely."
   ]
  },
  {
   "cell_type": "code",
   "execution_count": 44,
   "metadata": {
    "collapsed": false
   },
   "outputs": [
    {
     "data": {
      "text/plain": [
       "3"
      ]
     },
     "execution_count": 44,
     "metadata": {},
     "output_type": "execute_result"
    }
   ],
   "source": [
    "np.argmax(arr1)"
   ]
  },
  {
   "cell_type": "code",
   "execution_count": 55,
   "metadata": {
    "collapsed": false
   },
   "outputs": [
    {
     "data": {
      "text/plain": [
       "array([[ 5,  2, -3,  2],\n",
       "       [ 0,  3, 12,  3],\n",
       "       [ 2,  9, 10,  6]])"
      ]
     },
     "execution_count": 55,
     "metadata": {},
     "output_type": "execute_result"
    }
   ],
   "source": [
    "arr2"
   ]
  },
  {
   "cell_type": "code",
   "execution_count": 53,
   "metadata": {
    "collapsed": false
   },
   "outputs": [
    {
     "name": "stdout",
     "output_type": "stream",
     "text": [
      "The maximum of r2 occurs in row 1, column 2.\n"
     ]
    }
   ],
   "source": [
    "i_rowmax, i_colmax = np.where(arr2 == np.max(arr2))\n",
    "print('The maximum of arr2 occurs in row {}, column {}.'.format(i_rowmax[0], i_colmax[0]))"
   ]
  },
  {
   "cell_type": "code",
   "execution_count": null,
   "metadata": {
    "collapsed": true
   },
   "outputs": [],
   "source": []
  }
 ],
 "metadata": {
  "kernelspec": {
   "display_name": "Python 3",
   "language": "python",
   "name": "python3"
  },
  "language_info": {
   "codemirror_mode": {
    "name": "ipython",
    "version": 3
   },
   "file_extension": ".py",
   "mimetype": "text/x-python",
   "name": "python",
   "nbconvert_exporter": "python",
   "pygments_lexer": "ipython3",
   "version": "3.6.0"
  }
 },
 "nbformat": 4,
 "nbformat_minor": 0
}
